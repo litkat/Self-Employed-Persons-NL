{
 "cells": [
  {
   "cell_type": "code",
   "execution_count": 1,
   "metadata": {},
   "outputs": [],
   "source": [
    "import pandas as pd\n",
    "import numpy as np\n"
   ]
  },
  {
   "cell_type": "code",
   "execution_count": 2,
   "metadata": {},
   "outputs": [
    {
     "data": {
      "text/html": [
       "<div>\n",
       "<style scoped>\n",
       "    .dataframe tbody tr th:only-of-type {\n",
       "        vertical-align: middle;\n",
       "    }\n",
       "\n",
       "    .dataframe tbody tr th {\n",
       "        vertical-align: top;\n",
       "    }\n",
       "\n",
       "    .dataframe thead th {\n",
       "        text-align: right;\n",
       "    }\n",
       "</style>\n",
       "<table border=\"1\" class=\"dataframe\">\n",
       "  <thead>\n",
       "    <tr style=\"text-align: right;\">\n",
       "      <th></th>\n",
       "      <th>id</th>\n",
       "      <th>self_employment_type</th>\n",
       "      <th>branch</th>\n",
       "      <th>age</th>\n",
       "      <th>gender</th>\n",
       "      <th>period</th>\n",
       "      <th>self_empl_persons</th>\n",
       "      <th>avg_personal_income</th>\n",
       "      <th>avg_self_empl_income</th>\n",
       "    </tr>\n",
       "  </thead>\n",
       "  <tbody>\n",
       "    <tr>\n",
       "      <th>0</th>\n",
       "      <td>14424</td>\n",
       "      <td>1st_category_group</td>\n",
       "      <td>Agriculture, forestry and fishing</td>\n",
       "      <td>75 years or older</td>\n",
       "      <td>Male</td>\n",
       "      <td>2011</td>\n",
       "      <td>1.1</td>\n",
       "      <td>31.6</td>\n",
       "      <td>18.1</td>\n",
       "    </tr>\n",
       "    <tr>\n",
       "      <th>1</th>\n",
       "      <td>14425</td>\n",
       "      <td>1st_category_group</td>\n",
       "      <td>Agriculture, forestry and fishing</td>\n",
       "      <td>75 years or older</td>\n",
       "      <td>Male</td>\n",
       "      <td>2012</td>\n",
       "      <td>1.1</td>\n",
       "      <td>33.0</td>\n",
       "      <td>18.8</td>\n",
       "    </tr>\n",
       "    <tr>\n",
       "      <th>2</th>\n",
       "      <td>14426</td>\n",
       "      <td>1st_category_group</td>\n",
       "      <td>Agriculture, forestry and fishing</td>\n",
       "      <td>75 years or older</td>\n",
       "      <td>Male</td>\n",
       "      <td>2013</td>\n",
       "      <td>1.2</td>\n",
       "      <td>34.8</td>\n",
       "      <td>18.9</td>\n",
       "    </tr>\n",
       "  </tbody>\n",
       "</table>\n",
       "</div>"
      ],
      "text/plain": [
       "      id self_employment_type                             branch  \\\n",
       "0  14424   1st_category_group  Agriculture, forestry and fishing   \n",
       "1  14425   1st_category_group  Agriculture, forestry and fishing   \n",
       "2  14426   1st_category_group  Agriculture, forestry and fishing   \n",
       "\n",
       "                 age gender  period  self_empl_persons  avg_personal_income  \\\n",
       "0  75 years or older   Male    2011                1.1                 31.6   \n",
       "1  75 years or older   Male    2012                1.1                 33.0   \n",
       "2  75 years or older   Male    2013                1.2                 34.8   \n",
       "\n",
       "   avg_self_empl_income  \n",
       "0                  18.1  \n",
       "1                  18.8  \n",
       "2                  18.9  "
      ]
     },
     "execution_count": 2,
     "metadata": {},
     "output_type": "execute_result"
    }
   ],
   "source": [
    "data = pd.read_csv('data/age_self_empl.csv')\n",
    "data.head(3)"
   ]
  },
  {
   "cell_type": "markdown",
   "metadata": {},
   "source": [
    "The most frequently chosen branch (by average number of people)"
   ]
  },
  {
   "cell_type": "code",
   "execution_count": 3,
   "metadata": {},
   "outputs": [
    {
     "data": {
      "text/html": [
       "<div>\n",
       "<style scoped>\n",
       "    .dataframe tbody tr th:only-of-type {\n",
       "        vertical-align: middle;\n",
       "    }\n",
       "\n",
       "    .dataframe tbody tr th {\n",
       "        vertical-align: top;\n",
       "    }\n",
       "\n",
       "    .dataframe thead th {\n",
       "        text-align: right;\n",
       "    }\n",
       "</style>\n",
       "<table border=\"1\" class=\"dataframe\">\n",
       "  <thead>\n",
       "    <tr style=\"text-align: right;\">\n",
       "      <th></th>\n",
       "      <th>self_empl_persons</th>\n",
       "    </tr>\n",
       "    <tr>\n",
       "      <th>branch</th>\n",
       "      <th></th>\n",
       "    </tr>\n",
       "  </thead>\n",
       "  <tbody>\n",
       "    <tr>\n",
       "      <th>Other specialised business services</th>\n",
       "      <td>7.532405</td>\n",
       "    </tr>\n",
       "    <tr>\n",
       "      <th>Construction</th>\n",
       "      <td>7.085764</td>\n",
       "    </tr>\n",
       "    <tr>\n",
       "      <th>Wholesale and retail trade</th>\n",
       "      <td>6.191845</td>\n",
       "    </tr>\n",
       "    <tr>\n",
       "      <th>Health and social work activities</th>\n",
       "      <td>4.543145</td>\n",
       "    </tr>\n",
       "    <tr>\n",
       "      <th>Agriculture, forestry and fishing</th>\n",
       "      <td>3.767548</td>\n",
       "    </tr>\n",
       "    <tr>\n",
       "      <th>Other service activities</th>\n",
       "      <td>3.136364</td>\n",
       "    </tr>\n",
       "    <tr>\n",
       "      <th>Financial institutions</th>\n",
       "      <td>3.024765</td>\n",
       "    </tr>\n",
       "    <tr>\n",
       "      <th>Culture, sports and recreation</th>\n",
       "      <td>2.495806</td>\n",
       "    </tr>\n",
       "    <tr>\n",
       "      <th>Accommodation and food serving</th>\n",
       "      <td>2.337804</td>\n",
       "    </tr>\n",
       "    <tr>\n",
       "      <th>Information and communication</th>\n",
       "      <td>2.304786</td>\n",
       "    </tr>\n",
       "    <tr>\n",
       "      <th>Manufacturing</th>\n",
       "      <td>2.200000</td>\n",
       "    </tr>\n",
       "    <tr>\n",
       "      <th>Renting and other business support</th>\n",
       "      <td>2.075443</td>\n",
       "    </tr>\n",
       "    <tr>\n",
       "      <th>Education</th>\n",
       "      <td>1.995087</td>\n",
       "    </tr>\n",
       "    <tr>\n",
       "      <th>Unknown</th>\n",
       "      <td>1.934479</td>\n",
       "    </tr>\n",
       "    <tr>\n",
       "      <th>Transportation and storage</th>\n",
       "      <td>1.693279</td>\n",
       "    </tr>\n",
       "    <tr>\n",
       "      <th>Renting, buying, selling real estates</th>\n",
       "      <td>0.655470</td>\n",
       "    </tr>\n",
       "    <tr>\n",
       "      <th>Public administration and services</th>\n",
       "      <td>0.214286</td>\n",
       "    </tr>\n",
       "    <tr>\n",
       "      <th>Water supply and waste management</th>\n",
       "      <td>0.150360</td>\n",
       "    </tr>\n",
       "    <tr>\n",
       "      <th>Energy supply</th>\n",
       "      <td>0.115385</td>\n",
       "    </tr>\n",
       "  </tbody>\n",
       "</table>\n",
       "</div>"
      ],
      "text/plain": [
       "                                       self_empl_persons\n",
       "branch                                                  \n",
       "Other specialised business services             7.532405\n",
       "Construction                                    7.085764\n",
       "Wholesale and retail trade                      6.191845\n",
       "Health and social work activities               4.543145\n",
       "Agriculture, forestry and fishing               3.767548\n",
       "Other service activities                        3.136364\n",
       "Financial institutions                          3.024765\n",
       "Culture, sports and recreation                  2.495806\n",
       "Accommodation and food serving                  2.337804\n",
       "Information and communication                   2.304786\n",
       "Manufacturing                                   2.200000\n",
       "Renting and other business support              2.075443\n",
       "Education                                       1.995087\n",
       "Unknown                                         1.934479\n",
       "Transportation and storage                      1.693279\n",
       "Renting, buying, selling real estates           0.655470\n",
       "Public administration and services              0.214286\n",
       "Water supply and waste management               0.150360\n",
       "Energy supply                                   0.115385"
      ]
     },
     "execution_count": 3,
     "metadata": {},
     "output_type": "execute_result"
    }
   ],
   "source": [
    "person_branch  = data.groupby('branch').agg({'self_empl_persons': np.mean}).sort_values(by = 'self_empl_persons', ascending = False)\n",
    "person_branch"
   ]
  },
  {
   "cell_type": "markdown",
   "metadata": {},
   "source": [
    "Average self-employment income in this branch"
   ]
  },
  {
   "cell_type": "code",
   "execution_count": 4,
   "metadata": {},
   "outputs": [],
   "source": [
    "business_services = data[data['branch'] == 'Other specialised business services']"
   ]
  },
  {
   "cell_type": "code",
   "execution_count": 5,
   "metadata": {},
   "outputs": [
    {
     "data": {
      "text/plain": [
       "39.56004398826986"
      ]
     },
     "execution_count": 5,
     "metadata": {},
     "output_type": "execute_result"
    }
   ],
   "source": [
    "business_services['avg_self_empl_income'].mean()"
   ]
  },
  {
   "cell_type": "markdown",
   "metadata": {},
   "source": [
    "Age groups in this dataset"
   ]
  },
  {
   "cell_type": "code",
   "execution_count": 6,
   "metadata": {},
   "outputs": [
    {
     "data": {
      "text/plain": [
       "45 to 54 years           3591\n",
       "55 to 64 years           3419\n",
       "35 to 44 years           3407\n",
       "25 to 34 years           3001\n",
       "65 to 74 years           2373\n",
       "Younger than 25 years    1732\n",
       "75 years or older         767\n",
       "Name: age, dtype: int64"
      ]
     },
     "execution_count": 6,
     "metadata": {},
     "output_type": "execute_result"
    }
   ],
   "source": [
    "data['age'].value_counts()"
   ]
  },
  {
   "cell_type": "markdown",
   "metadata": {},
   "source": [
    "$H_0:$ Women of my age (25 - 34) working in **Other specialised business services** have average self-employment income equal to average self-employment income than the rest of people working in this branch **= 39.56**\n",
    "\n",
    "$H_1:$ Women of my age (25 - 34) working in **Other specialised business services** have average self-employment income not equal average self-employment income than the rest of people working in this branch **!= 39.56**"
   ]
  },
  {
   "cell_type": "markdown",
   "metadata": {},
   "source": [
    "Creating dataframe for 25 to 34 years old women working in Other specialised business services"
   ]
  },
  {
   "cell_type": "code",
   "execution_count": 7,
   "metadata": {},
   "outputs": [
    {
     "data": {
      "text/html": [
       "<div>\n",
       "<style scoped>\n",
       "    .dataframe tbody tr th:only-of-type {\n",
       "        vertical-align: middle;\n",
       "    }\n",
       "\n",
       "    .dataframe tbody tr th {\n",
       "        vertical-align: top;\n",
       "    }\n",
       "\n",
       "    .dataframe thead th {\n",
       "        text-align: right;\n",
       "    }\n",
       "</style>\n",
       "<table border=\"1\" class=\"dataframe\">\n",
       "  <thead>\n",
       "    <tr style=\"text-align: right;\">\n",
       "      <th></th>\n",
       "      <th>id</th>\n",
       "      <th>self_employment_type</th>\n",
       "      <th>branch</th>\n",
       "      <th>age</th>\n",
       "      <th>gender</th>\n",
       "      <th>period</th>\n",
       "      <th>self_empl_persons</th>\n",
       "      <th>avg_personal_income</th>\n",
       "      <th>avg_self_empl_income</th>\n",
       "    </tr>\n",
       "  </thead>\n",
       "  <tbody>\n",
       "    <tr>\n",
       "      <th>1182</th>\n",
       "      <td>33674</td>\n",
       "      <td>1st_category_group</td>\n",
       "      <td>Other specialised business services</td>\n",
       "      <td>25 to 34 years</td>\n",
       "      <td>Female</td>\n",
       "      <td>2011</td>\n",
       "      <td>7.2</td>\n",
       "      <td>29.5</td>\n",
       "      <td>21.2</td>\n",
       "    </tr>\n",
       "    <tr>\n",
       "      <th>1183</th>\n",
       "      <td>33675</td>\n",
       "      <td>1st_category_group</td>\n",
       "      <td>Other specialised business services</td>\n",
       "      <td>25 to 34 years</td>\n",
       "      <td>Female</td>\n",
       "      <td>2012</td>\n",
       "      <td>7.7</td>\n",
       "      <td>28.3</td>\n",
       "      <td>20.4</td>\n",
       "    </tr>\n",
       "    <tr>\n",
       "      <th>1184</th>\n",
       "      <td>33676</td>\n",
       "      <td>1st_category_group</td>\n",
       "      <td>Other specialised business services</td>\n",
       "      <td>25 to 34 years</td>\n",
       "      <td>Female</td>\n",
       "      <td>2013</td>\n",
       "      <td>7.9</td>\n",
       "      <td>27.4</td>\n",
       "      <td>19.6</td>\n",
       "    </tr>\n",
       "    <tr>\n",
       "      <th>1185</th>\n",
       "      <td>33677</td>\n",
       "      <td>1st_category_group</td>\n",
       "      <td>Other specialised business services</td>\n",
       "      <td>25 to 34 years</td>\n",
       "      <td>Female</td>\n",
       "      <td>2014</td>\n",
       "      <td>8.3</td>\n",
       "      <td>27.3</td>\n",
       "      <td>19.7</td>\n",
       "    </tr>\n",
       "    <tr>\n",
       "      <th>1186</th>\n",
       "      <td>33678</td>\n",
       "      <td>1st_category_group</td>\n",
       "      <td>Other specialised business services</td>\n",
       "      <td>25 to 34 years</td>\n",
       "      <td>Female</td>\n",
       "      <td>2015</td>\n",
       "      <td>9.2</td>\n",
       "      <td>28.5</td>\n",
       "      <td>20.3</td>\n",
       "    </tr>\n",
       "  </tbody>\n",
       "</table>\n",
       "</div>"
      ],
      "text/plain": [
       "         id self_employment_type                               branch  \\\n",
       "1182  33674   1st_category_group  Other specialised business services   \n",
       "1183  33675   1st_category_group  Other specialised business services   \n",
       "1184  33676   1st_category_group  Other specialised business services   \n",
       "1185  33677   1st_category_group  Other specialised business services   \n",
       "1186  33678   1st_category_group  Other specialised business services   \n",
       "\n",
       "                 age  gender  period  self_empl_persons  avg_personal_income  \\\n",
       "1182  25 to 34 years  Female    2011                7.2                 29.5   \n",
       "1183  25 to 34 years  Female    2012                7.7                 28.3   \n",
       "1184  25 to 34 years  Female    2013                7.9                 27.4   \n",
       "1185  25 to 34 years  Female    2014                8.3                 27.3   \n",
       "1186  25 to 34 years  Female    2015                9.2                 28.5   \n",
       "\n",
       "      avg_self_empl_income  \n",
       "1182                  21.2  \n",
       "1183                  20.4  \n",
       "1184                  19.6  \n",
       "1185                  19.7  \n",
       "1186                  20.3  "
      ]
     },
     "execution_count": 7,
     "metadata": {},
     "output_type": "execute_result"
    }
   ],
   "source": [
    "age_group = data[(data['age'] =='25 to 34 years') & (data['gender'] =='Female') & (data['branch'] =='Other specialised business services')]\n",
    "age_group.head()"
   ]
  },
  {
   "cell_type": "code",
   "execution_count": 8,
   "metadata": {},
   "outputs": [
    {
     "name": "stdout",
     "output_type": "stream",
     "text": [
      "stat is   -10.101531504144939\n",
      "P-value for the one-tailed test is  8.366296508814275e-18\n"
     ]
    }
   ],
   "source": [
    "from scipy.stats import ttest_1samp\n",
    "\n",
    "stat, pval = ttest_1samp(age_group['avg_self_empl_income'], 39.56)\n",
    "\n",
    "print('stat is  ', stat)\n",
    "print('P-value for the one-tailed test is ', pval)"
   ]
  },
  {
   "cell_type": "markdown",
   "metadata": {},
   "source": [
    "**P-value** is less than 0.05, so we reject $H_0$\n",
    "\n",
    "A negative **Stat** (t-statistic) simply means that it lies to the left of the mean, i.e less than 39.56"
   ]
  },
  {
   "cell_type": "code",
   "execution_count": 9,
   "metadata": {},
   "outputs": [
    {
     "name": "stdout",
     "output_type": "stream",
     "text": [
      "Confidence interval is  (24.981997482135263, 29.759465932498884) .\n"
     ]
    }
   ],
   "source": [
    "import scipy.stats\n",
    "\n",
    "confidence_level = 0.95\n",
    "degrees_freedom = len(age_group['avg_self_empl_income']) - 1  \n",
    "sample_mean = np.mean(age_group['avg_self_empl_income'])\n",
    "\n",
    "sample_standard_error = scipy.stats.sem(age_group['avg_self_empl_income'])\n",
    "\n",
    "confidence_interval = scipy.stats.t.interval(confidence_level, \n",
    "                                             degrees_freedom, \n",
    "                                             sample_mean, \n",
    "                                             sample_standard_error)\n",
    "\n",
    "print( 'Confidence interval is ', confidence_interval, '.' )"
   ]
  },
  {
   "cell_type": "markdown",
   "metadata": {},
   "source": [
    "### Result:\n",
    "Based on our confidence interval values, **women of 25 to 34** years working in **Other specialised business services** have average self-employment income between 25 000 and 30 000 per person/year. "
   ]
  }
 ],
 "metadata": {
  "kernelspec": {
   "display_name": "Python 3",
   "language": "python",
   "name": "python3"
  },
  "language_info": {
   "codemirror_mode": {
    "name": "ipython",
    "version": 3
   },
   "file_extension": ".py",
   "mimetype": "text/x-python",
   "name": "python",
   "nbconvert_exporter": "python",
   "pygments_lexer": "ipython3",
   "version": "3.8.5"
  }
 },
 "nbformat": 4,
 "nbformat_minor": 4
}
