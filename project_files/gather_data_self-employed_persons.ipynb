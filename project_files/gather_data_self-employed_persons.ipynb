{
 "cells": [
  {
   "cell_type": "code",
   "execution_count": 1,
   "metadata": {},
   "outputs": [
    {
     "name": "stdout",
     "output_type": "stream",
     "text": [
      "········\n"
     ]
    }
   ],
   "source": [
    "#Import of necessary libraries to work\n",
    "import pandas as pd\n",
    "import numpy as np\n",
    "import matplotlib.pyplot as plt\n",
    "import seaborn as sns\n",
    "%matplotlib inline\n",
    "\n",
    "import pymysql\n",
    "from sqlalchemy import create_engine\n",
    "import getpass  # To get the password without showing the input\n",
    "password = getpass.getpass()"
   ]
  },
  {
   "cell_type": "code",
   "execution_count": 2,
   "metadata": {},
   "outputs": [],
   "source": [
    "connection_string = 'mysql+pymysql://root:' + password + '@localhost/self1'\n",
    "engine = create_engine(connection_string)"
   ]
  },
  {
   "cell_type": "code",
   "execution_count": 3,
   "metadata": {},
   "outputs": [
    {
     "data": {
      "text/html": [
       "<div>\n",
       "<style scoped>\n",
       "    .dataframe tbody tr th:only-of-type {\n",
       "        vertical-align: middle;\n",
       "    }\n",
       "\n",
       "    .dataframe tbody tr th {\n",
       "        vertical-align: top;\n",
       "    }\n",
       "\n",
       "    .dataframe thead th {\n",
       "        text-align: right;\n",
       "    }\n",
       "</style>\n",
       "<table border=\"1\" class=\"dataframe\">\n",
       "  <thead>\n",
       "    <tr style=\"text-align: right;\">\n",
       "      <th></th>\n",
       "      <th>ID</th>\n",
       "      <th>TypeOfSelfEmployment</th>\n",
       "      <th>BranchesSIC2008</th>\n",
       "      <th>PersonCharacteristics</th>\n",
       "      <th>Sex</th>\n",
       "      <th>Periods</th>\n",
       "      <th>SelfEmployedPersons_1</th>\n",
       "      <th>AveragePersonalIncome_2</th>\n",
       "      <th>AverageSelfEmployedIncome_4</th>\n",
       "    </tr>\n",
       "  </thead>\n",
       "  <tbody>\n",
       "    <tr>\n",
       "      <th>0</th>\n",
       "      <td>4</td>\n",
       "      <td>2021380</td>\n",
       "      <td>T001081</td>\n",
       "      <td>T009002</td>\n",
       "      <td>T001038</td>\n",
       "      <td>2011JJ00</td>\n",
       "      <td>1093.1</td>\n",
       "      <td>38.8</td>\n",
       "      <td>29.39999962</td>\n",
       "    </tr>\n",
       "    <tr>\n",
       "      <th>1</th>\n",
       "      <td>5</td>\n",
       "      <td>2021380</td>\n",
       "      <td>T001081</td>\n",
       "      <td>T009002</td>\n",
       "      <td>T001038</td>\n",
       "      <td>2012JJ00</td>\n",
       "      <td>1106.2</td>\n",
       "      <td>38.1</td>\n",
       "      <td>28.20000076</td>\n",
       "    </tr>\n",
       "    <tr>\n",
       "      <th>2</th>\n",
       "      <td>6</td>\n",
       "      <td>2021380</td>\n",
       "      <td>T001081</td>\n",
       "      <td>T009002</td>\n",
       "      <td>T001038</td>\n",
       "      <td>2013JJ00</td>\n",
       "      <td>1120.2</td>\n",
       "      <td>37.9</td>\n",
       "      <td>27.79999924</td>\n",
       "    </tr>\n",
       "    <tr>\n",
       "      <th>3</th>\n",
       "      <td>7</td>\n",
       "      <td>2021380</td>\n",
       "      <td>T001081</td>\n",
       "      <td>T009002</td>\n",
       "      <td>T001038</td>\n",
       "      <td>2014JJ00</td>\n",
       "      <td>1149.7</td>\n",
       "      <td>39.1</td>\n",
       "      <td>28.89999962</td>\n",
       "    </tr>\n",
       "    <tr>\n",
       "      <th>4</th>\n",
       "      <td>8</td>\n",
       "      <td>2021380</td>\n",
       "      <td>T001081</td>\n",
       "      <td>T009002</td>\n",
       "      <td>T001038</td>\n",
       "      <td>2015JJ00</td>\n",
       "      <td>1180.0</td>\n",
       "      <td>39.8</td>\n",
       "      <td>29.89999962</td>\n",
       "    </tr>\n",
       "  </tbody>\n",
       "</table>\n",
       "</div>"
      ],
      "text/plain": [
       "   ID  TypeOfSelfEmployment BranchesSIC2008 PersonCharacteristics      Sex  \\\n",
       "0   4               2021380         T001081               T009002  T001038   \n",
       "1   5               2021380         T001081               T009002  T001038   \n",
       "2   6               2021380         T001081               T009002  T001038   \n",
       "3   7               2021380         T001081               T009002  T001038   \n",
       "4   8               2021380         T001081               T009002  T001038   \n",
       "\n",
       "    Periods  SelfEmployedPersons_1 AveragePersonalIncome_2  \\\n",
       "0  2011JJ00                 1093.1                    38.8   \n",
       "1  2012JJ00                 1106.2                    38.1   \n",
       "2  2013JJ00                 1120.2                    37.9   \n",
       "3  2014JJ00                 1149.7                    39.1   \n",
       "4  2015JJ00                 1180.0                    39.8   \n",
       "\n",
       "  AverageSelfEmployedIncome_4  \n",
       "0                 29.39999962  \n",
       "1                 28.20000076  \n",
       "2                 27.79999924  \n",
       "3                 28.89999962  \n",
       "4                 29.89999962  "
      ]
     },
     "execution_count": 3,
     "metadata": {},
     "output_type": "execute_result"
    }
   ],
   "source": [
    "query = '''SELECT ID, TypeOfSelfEmployment, BranchesSIC2008, PersonCharacteristics, Sex, Periods, SelfEmployedPersons_1, \\\n",
    "AveragePersonalIncome_2, AverageSelfEmployedIncome_4 \\\n",
    "FROM self_empl\n",
    ";'''\n",
    "\n",
    "data= pd.read_sql_query(query, engine)\n",
    "data.head()"
   ]
  },
  {
   "cell_type": "code",
   "execution_count": 4,
   "metadata": {},
   "outputs": [
    {
     "data": {
      "text/plain": [
       "(459420, 9)"
      ]
     },
     "execution_count": 4,
     "metadata": {},
     "output_type": "execute_result"
    }
   ],
   "source": [
    "data.shape"
   ]
  },
  {
   "cell_type": "code",
   "execution_count": 5,
   "metadata": {},
   "outputs": [
    {
     "data": {
      "text/plain": [
       "0"
      ]
     },
     "execution_count": 5,
     "metadata": {},
     "output_type": "execute_result"
    }
   ],
   "source": [
    "sum(data.duplicated())"
   ]
  },
  {
   "cell_type": "code",
   "execution_count": 6,
   "metadata": {},
   "outputs": [],
   "source": [
    "df = data[['ID', 'TypeOfSelfEmployment', 'BranchesSIC2008', 'PersonCharacteristics', 'Sex', 'Periods', 'SelfEmployedPersons_1', 'AveragePersonalIncome_2', 'AverageSelfEmployedIncome_4']]"
   ]
  },
  {
   "cell_type": "code",
   "execution_count": 7,
   "metadata": {},
   "outputs": [
    {
     "data": {
      "text/html": [
       "<div>\n",
       "<style scoped>\n",
       "    .dataframe tbody tr th:only-of-type {\n",
       "        vertical-align: middle;\n",
       "    }\n",
       "\n",
       "    .dataframe tbody tr th {\n",
       "        vertical-align: top;\n",
       "    }\n",
       "\n",
       "    .dataframe thead th {\n",
       "        text-align: right;\n",
       "    }\n",
       "</style>\n",
       "<table border=\"1\" class=\"dataframe\">\n",
       "  <thead>\n",
       "    <tr style=\"text-align: right;\">\n",
       "      <th></th>\n",
       "      <th>ID</th>\n",
       "      <th>TypeOfSelfEmployment</th>\n",
       "      <th>BranchesSIC2008</th>\n",
       "      <th>PersonCharacteristics</th>\n",
       "      <th>Sex</th>\n",
       "      <th>Periods</th>\n",
       "      <th>SelfEmployedPersons_1</th>\n",
       "      <th>AveragePersonalIncome_2</th>\n",
       "      <th>AverageSelfEmployedIncome_4</th>\n",
       "    </tr>\n",
       "  </thead>\n",
       "  <tbody>\n",
       "    <tr>\n",
       "      <th>0</th>\n",
       "      <td>4</td>\n",
       "      <td>2021380</td>\n",
       "      <td>T001081</td>\n",
       "      <td>T009002</td>\n",
       "      <td>T001038</td>\n",
       "      <td>2011JJ00</td>\n",
       "      <td>1093.1</td>\n",
       "      <td>38.8</td>\n",
       "      <td>29.39999962</td>\n",
       "    </tr>\n",
       "    <tr>\n",
       "      <th>1</th>\n",
       "      <td>5</td>\n",
       "      <td>2021380</td>\n",
       "      <td>T001081</td>\n",
       "      <td>T009002</td>\n",
       "      <td>T001038</td>\n",
       "      <td>2012JJ00</td>\n",
       "      <td>1106.2</td>\n",
       "      <td>38.1</td>\n",
       "      <td>28.20000076</td>\n",
       "    </tr>\n",
       "    <tr>\n",
       "      <th>2</th>\n",
       "      <td>6</td>\n",
       "      <td>2021380</td>\n",
       "      <td>T001081</td>\n",
       "      <td>T009002</td>\n",
       "      <td>T001038</td>\n",
       "      <td>2013JJ00</td>\n",
       "      <td>1120.2</td>\n",
       "      <td>37.9</td>\n",
       "      <td>27.79999924</td>\n",
       "    </tr>\n",
       "    <tr>\n",
       "      <th>3</th>\n",
       "      <td>7</td>\n",
       "      <td>2021380</td>\n",
       "      <td>T001081</td>\n",
       "      <td>T009002</td>\n",
       "      <td>T001038</td>\n",
       "      <td>2014JJ00</td>\n",
       "      <td>1149.7</td>\n",
       "      <td>39.1</td>\n",
       "      <td>28.89999962</td>\n",
       "    </tr>\n",
       "    <tr>\n",
       "      <th>4</th>\n",
       "      <td>8</td>\n",
       "      <td>2021380</td>\n",
       "      <td>T001081</td>\n",
       "      <td>T009002</td>\n",
       "      <td>T001038</td>\n",
       "      <td>2015JJ00</td>\n",
       "      <td>1180.0</td>\n",
       "      <td>39.8</td>\n",
       "      <td>29.89999962</td>\n",
       "    </tr>\n",
       "    <tr>\n",
       "      <th>...</th>\n",
       "      <td>...</td>\n",
       "      <td>...</td>\n",
       "      <td>...</td>\n",
       "      <td>...</td>\n",
       "      <td>...</td>\n",
       "      <td>...</td>\n",
       "      <td>...</td>\n",
       "      <td>...</td>\n",
       "      <td>...</td>\n",
       "    </tr>\n",
       "    <tr>\n",
       "      <th>459415</th>\n",
       "      <td>643183</td>\n",
       "      <td>2021410</td>\n",
       "      <td>999999</td>\n",
       "      <td>1021150</td>\n",
       "      <td>4000</td>\n",
       "      <td>2016JJ00</td>\n",
       "      <td>5.1</td>\n",
       "      <td>12.8</td>\n",
       "      <td>7.5</td>\n",
       "    </tr>\n",
       "    <tr>\n",
       "      <th>459416</th>\n",
       "      <td>643184</td>\n",
       "      <td>2021410</td>\n",
       "      <td>999999</td>\n",
       "      <td>1021150</td>\n",
       "      <td>4000</td>\n",
       "      <td>2017JJ00</td>\n",
       "      <td>5.0</td>\n",
       "      <td>13.7</td>\n",
       "      <td>7.900000095</td>\n",
       "    </tr>\n",
       "    <tr>\n",
       "      <th>459417</th>\n",
       "      <td>643185</td>\n",
       "      <td>2021410</td>\n",
       "      <td>999999</td>\n",
       "      <td>1021150</td>\n",
       "      <td>4000</td>\n",
       "      <td>2018JJ00</td>\n",
       "      <td>5.2</td>\n",
       "      <td>14</td>\n",
       "      <td>8.199999809</td>\n",
       "    </tr>\n",
       "    <tr>\n",
       "      <th>459418</th>\n",
       "      <td>643186</td>\n",
       "      <td>2021410</td>\n",
       "      <td>999999</td>\n",
       "      <td>1021150</td>\n",
       "      <td>4000</td>\n",
       "      <td>2019JJ00</td>\n",
       "      <td>3.5</td>\n",
       "      <td>15.1</td>\n",
       "      <td>10</td>\n",
       "    </tr>\n",
       "    <tr>\n",
       "      <th>459419</th>\n",
       "      <td>643187</td>\n",
       "      <td>2021410</td>\n",
       "      <td>999999</td>\n",
       "      <td>1021150</td>\n",
       "      <td>4000</td>\n",
       "      <td>2020JJ00</td>\n",
       "      <td>3.3</td>\n",
       "      <td>15</td>\n",
       "      <td>10</td>\n",
       "    </tr>\n",
       "  </tbody>\n",
       "</table>\n",
       "<p>459420 rows × 9 columns</p>\n",
       "</div>"
      ],
      "text/plain": [
       "            ID  TypeOfSelfEmployment BranchesSIC2008 PersonCharacteristics  \\\n",
       "0            4               2021380         T001081               T009002   \n",
       "1            5               2021380         T001081               T009002   \n",
       "2            6               2021380         T001081               T009002   \n",
       "3            7               2021380         T001081               T009002   \n",
       "4            8               2021380         T001081               T009002   \n",
       "...        ...                   ...             ...                   ...   \n",
       "459415  643183               2021410         999999                1021150   \n",
       "459416  643184               2021410         999999                1021150   \n",
       "459417  643185               2021410         999999                1021150   \n",
       "459418  643186               2021410         999999                1021150   \n",
       "459419  643187               2021410         999999                1021150   \n",
       "\n",
       "            Sex   Periods  SelfEmployedPersons_1 AveragePersonalIncome_2  \\\n",
       "0       T001038  2011JJ00                 1093.1                    38.8   \n",
       "1       T001038  2012JJ00                 1106.2                    38.1   \n",
       "2       T001038  2013JJ00                 1120.2                    37.9   \n",
       "3       T001038  2014JJ00                 1149.7                    39.1   \n",
       "4       T001038  2015JJ00                 1180.0                    39.8   \n",
       "...         ...       ...                    ...                     ...   \n",
       "459415  4000     2016JJ00                    5.1                    12.8   \n",
       "459416  4000     2017JJ00                    5.0                    13.7   \n",
       "459417  4000     2018JJ00                    5.2                      14   \n",
       "459418  4000     2019JJ00                    3.5                    15.1   \n",
       "459419  4000     2020JJ00                    3.3                      15   \n",
       "\n",
       "       AverageSelfEmployedIncome_4  \n",
       "0                      29.39999962  \n",
       "1                      28.20000076  \n",
       "2                      27.79999924  \n",
       "3                      28.89999962  \n",
       "4                      29.89999962  \n",
       "...                            ...  \n",
       "459415                         7.5  \n",
       "459416                 7.900000095  \n",
       "459417                 8.199999809  \n",
       "459418                          10  \n",
       "459419                          10  \n",
       "\n",
       "[459420 rows x 9 columns]"
      ]
     },
     "execution_count": 7,
     "metadata": {},
     "output_type": "execute_result"
    }
   ],
   "source": [
    "df"
   ]
  },
  {
   "cell_type": "code",
   "execution_count": 8,
   "metadata": {},
   "outputs": [
    {
     "data": {
      "text/plain": [
       "ID                             0.0\n",
       "TypeOfSelfEmployment           0.0\n",
       "BranchesSIC2008                0.0\n",
       "PersonCharacteristics          0.0\n",
       "Sex                            0.0\n",
       "Periods                        0.0\n",
       "SelfEmployedPersons_1          0.0\n",
       "AveragePersonalIncome_2        0.0\n",
       "AverageSelfEmployedIncome_4    0.0\n",
       "dtype: float64"
      ]
     },
     "execution_count": 8,
     "metadata": {},
     "output_type": "execute_result"
    }
   ],
   "source": [
    "round(df.isna().sum()/len(df),4)*100 "
   ]
  },
  {
   "cell_type": "code",
   "execution_count": 9,
   "metadata": {},
   "outputs": [
    {
     "name": "stdout",
     "output_type": "stream",
     "text": [
      "<class 'pandas.core.frame.DataFrame'>\n",
      "RangeIndex: 459420 entries, 0 to 459419\n",
      "Data columns (total 9 columns):\n",
      " #   Column                       Non-Null Count   Dtype  \n",
      "---  ------                       --------------   -----  \n",
      " 0   ID                           459420 non-null  int64  \n",
      " 1   TypeOfSelfEmployment         459420 non-null  int64  \n",
      " 2   BranchesSIC2008              459420 non-null  object \n",
      " 3   PersonCharacteristics        459420 non-null  object \n",
      " 4   Sex                          459420 non-null  object \n",
      " 5   Periods                      459420 non-null  object \n",
      " 6   SelfEmployedPersons_1        459420 non-null  float64\n",
      " 7   AveragePersonalIncome_2      459420 non-null  object \n",
      " 8   AverageSelfEmployedIncome_4  459420 non-null  object \n",
      "dtypes: float64(1), int64(2), object(6)\n",
      "memory usage: 31.5+ MB\n"
     ]
    }
   ],
   "source": [
    "df.info()"
   ]
  },
  {
   "cell_type": "code",
   "execution_count": 10,
   "metadata": {},
   "outputs": [],
   "source": [
    "df = df.rename(columns = {'ID':'id', 'TypeOfSelfEmployment':'self_employment_type', 'BranchesSIC2008': 'branch',\n",
    "                          'PersonCharacteristics': 'person_characteristics', 'Sex':'gender', 'Periods': 'period',\n",
    "                          'SelfEmployedPersons_1':'self_empl_persons', 'AveragePersonalIncome_2':'avg_personal_income',\n",
    "                          'AverageSelfEmployedIncome_4':'avg_self_empl_income'})"
   ]
  },
  {
   "cell_type": "code",
   "execution_count": 11,
   "metadata": {},
   "outputs": [
    {
     "name": "stdout",
     "output_type": "stream",
     "text": [
      "Index(['id', 'self_employment_type', 'branch', 'person_characteristics',\n",
      "       'gender', 'period', 'self_empl_persons', 'avg_personal_income',\n",
      "       'avg_self_empl_income'],\n",
      "      dtype='object')\n"
     ]
    }
   ],
   "source": [
    "print(df.columns)"
   ]
  },
  {
   "cell_type": "code",
   "execution_count": 12,
   "metadata": {},
   "outputs": [],
   "source": [
    "df['avg_personal_income'] = pd.to_numeric(df['avg_personal_income'], errors='coerce')\n",
    "df['avg_self_empl_income'] = pd.to_numeric(df['avg_self_empl_income'], errors='coerce')"
   ]
  },
  {
   "cell_type": "code",
   "execution_count": 13,
   "metadata": {},
   "outputs": [
    {
     "data": {
      "text/plain": [
       "(dtype('float64'), dtype('float64'))"
      ]
     },
     "execution_count": 13,
     "metadata": {},
     "output_type": "execute_result"
    }
   ],
   "source": [
    "df.dtypes['avg_personal_income'], df.dtypes['avg_self_empl_income']"
   ]
  },
  {
   "cell_type": "code",
   "execution_count": 14,
   "metadata": {},
   "outputs": [
    {
     "data": {
      "text/html": [
       "<div>\n",
       "<style scoped>\n",
       "    .dataframe tbody tr th:only-of-type {\n",
       "        vertical-align: middle;\n",
       "    }\n",
       "\n",
       "    .dataframe tbody tr th {\n",
       "        vertical-align: top;\n",
       "    }\n",
       "\n",
       "    .dataframe thead th {\n",
       "        text-align: right;\n",
       "    }\n",
       "</style>\n",
       "<table border=\"1\" class=\"dataframe\">\n",
       "  <thead>\n",
       "    <tr style=\"text-align: right;\">\n",
       "      <th></th>\n",
       "      <th>id</th>\n",
       "      <th>self_employment_type</th>\n",
       "      <th>branch</th>\n",
       "      <th>person_characteristics</th>\n",
       "      <th>gender</th>\n",
       "      <th>period</th>\n",
       "      <th>self_empl_persons</th>\n",
       "      <th>avg_personal_income</th>\n",
       "      <th>avg_self_empl_income</th>\n",
       "    </tr>\n",
       "  </thead>\n",
       "  <tbody>\n",
       "    <tr>\n",
       "      <th>0</th>\n",
       "      <td>4</td>\n",
       "      <td>2021380</td>\n",
       "      <td>T001081</td>\n",
       "      <td>T009002</td>\n",
       "      <td>T001038</td>\n",
       "      <td>2011JJ00</td>\n",
       "      <td>1093.1</td>\n",
       "      <td>38.8</td>\n",
       "      <td>29.4</td>\n",
       "    </tr>\n",
       "    <tr>\n",
       "      <th>1</th>\n",
       "      <td>5</td>\n",
       "      <td>2021380</td>\n",
       "      <td>T001081</td>\n",
       "      <td>T009002</td>\n",
       "      <td>T001038</td>\n",
       "      <td>2012JJ00</td>\n",
       "      <td>1106.2</td>\n",
       "      <td>38.1</td>\n",
       "      <td>28.2</td>\n",
       "    </tr>\n",
       "    <tr>\n",
       "      <th>2</th>\n",
       "      <td>6</td>\n",
       "      <td>2021380</td>\n",
       "      <td>T001081</td>\n",
       "      <td>T009002</td>\n",
       "      <td>T001038</td>\n",
       "      <td>2013JJ00</td>\n",
       "      <td>1120.2</td>\n",
       "      <td>37.9</td>\n",
       "      <td>27.8</td>\n",
       "    </tr>\n",
       "  </tbody>\n",
       "</table>\n",
       "</div>"
      ],
      "text/plain": [
       "   id  self_employment_type   branch person_characteristics   gender  \\\n",
       "0   4               2021380  T001081                T009002  T001038   \n",
       "1   5               2021380  T001081                T009002  T001038   \n",
       "2   6               2021380  T001081                T009002  T001038   \n",
       "\n",
       "     period  self_empl_persons  avg_personal_income  avg_self_empl_income  \n",
       "0  2011JJ00             1093.1                 38.8                  29.4  \n",
       "1  2012JJ00             1106.2                 38.1                  28.2  \n",
       "2  2013JJ00             1120.2                 37.9                  27.8  "
      ]
     },
     "execution_count": 14,
     "metadata": {},
     "output_type": "execute_result"
    }
   ],
   "source": [
    "df['avg_self_empl_income'] = round(df['avg_self_empl_income'],1)\n",
    "df.head(3)"
   ]
  },
  {
   "cell_type": "code",
   "execution_count": 15,
   "metadata": {},
   "outputs": [
    {
     "data": {
      "text/plain": [
       "id                         0.00\n",
       "self_employment_type       0.00\n",
       "branch                     0.00\n",
       "person_characteristics     0.00\n",
       "gender                     0.00\n",
       "period                     0.00\n",
       "self_empl_persons          0.00\n",
       "avg_personal_income       42.26\n",
       "avg_self_empl_income      40.89\n",
       "dtype: float64"
      ]
     },
     "execution_count": 15,
     "metadata": {},
     "output_type": "execute_result"
    }
   ],
   "source": [
    "round(df.isna().sum()/len(df),4)*100 "
   ]
  },
  {
   "cell_type": "code",
   "execution_count": 16,
   "metadata": {},
   "outputs": [],
   "source": [
    "df = df.dropna()\n",
    "df = df.reset_index(drop=True)"
   ]
  },
  {
   "cell_type": "code",
   "execution_count": 17,
   "metadata": {},
   "outputs": [
    {
     "data": {
      "text/plain": [
       "id                        0.0\n",
       "self_employment_type      0.0\n",
       "branch                    0.0\n",
       "person_characteristics    0.0\n",
       "gender                    0.0\n",
       "period                    0.0\n",
       "self_empl_persons         0.0\n",
       "avg_personal_income       0.0\n",
       "avg_self_empl_income      0.0\n",
       "dtype: float64"
      ]
     },
     "execution_count": 17,
     "metadata": {},
     "output_type": "execute_result"
    }
   ],
   "source": [
    "round(df.isna().sum()/len(df),4)*100 "
   ]
  },
  {
   "cell_type": "code",
   "execution_count": 18,
   "metadata": {},
   "outputs": [
    {
     "name": "stdout",
     "output_type": "stream",
     "text": [
      "<class 'pandas.core.frame.DataFrame'>\n",
      "RangeIndex: 265288 entries, 0 to 265287\n",
      "Data columns (total 9 columns):\n",
      " #   Column                  Non-Null Count   Dtype  \n",
      "---  ------                  --------------   -----  \n",
      " 0   id                      265288 non-null  int64  \n",
      " 1   self_employment_type    265288 non-null  int64  \n",
      " 2   branch                  265288 non-null  object \n",
      " 3   person_characteristics  265288 non-null  object \n",
      " 4   gender                  265288 non-null  object \n",
      " 5   period                  265288 non-null  object \n",
      " 6   self_empl_persons       265288 non-null  float64\n",
      " 7   avg_personal_income     265288 non-null  float64\n",
      " 8   avg_self_empl_income    265288 non-null  float64\n",
      "dtypes: float64(3), int64(2), object(4)\n",
      "memory usage: 18.2+ MB\n"
     ]
    }
   ],
   "source": [
    "df.info()"
   ]
  },
  {
   "cell_type": "code",
   "execution_count": 19,
   "metadata": {},
   "outputs": [],
   "source": [
    "#create/convert category groups type of self-employed persons\n",
    "def CategoryGroupType(t):\n",
    "    if t in [2021380, 2021430, 2021420, 2021400]:\n",
    "        t = '1st_category_group'\n",
    "    elif t in [2021396, 2021385]:\n",
    "        t = '2nd_category_group'\n",
    "    elif t in [2021390, 2021391, 2021392]:\n",
    "        t = '3rd_category_group'\n",
    "    elif t in [2021393, 2021394, 2021395]:\n",
    "        t = '4th_category_group'\n",
    "    elif t in [2021410]:\n",
    "        t = '5th_category_group'\n",
    "    return t\n",
    "\n",
    "\n",
    "df['self_employment_type'] = list(map(CategoryGroupType, df['self_employment_type']))"
   ]
  },
  {
   "cell_type": "code",
   "execution_count": 20,
   "metadata": {},
   "outputs": [
    {
     "data": {
      "text/plain": [
       "1st_category_group    82149\n",
       "3rd_category_group    70043\n",
       "2nd_category_group    51430\n",
       "4th_category_group    48477\n",
       "5th_category_group    13189\n",
       "Name: self_employment_type, dtype: int64"
      ]
     },
     "execution_count": 20,
     "metadata": {},
     "output_type": "execute_result"
    }
   ],
   "source": [
    "df['self_employment_type'].value_counts()"
   ]
  },
  {
   "cell_type": "code",
   "execution_count": 21,
   "metadata": {},
   "outputs": [
    {
     "data": {
      "text/plain": [
       "T001038    96514\n",
       "3000       88523\n",
       "4000       80251\n",
       "Name: gender, dtype: int64"
      ]
     },
     "execution_count": 21,
     "metadata": {},
     "output_type": "execute_result"
    }
   ],
   "source": [
    "df['gender'].value_counts()"
   ]
  },
  {
   "cell_type": "code",
   "execution_count": 22,
   "metadata": {},
   "outputs": [],
   "source": [
    "df['gender'] = df['gender'].str.replace(\" \", \"\")\n",
    "df['branch'] = df['branch'].str.replace(\" \", \"\")\n",
    "df['person_characteristics'] = df['person_characteristics'].str.replace(\" \", \"\")"
   ]
  },
  {
   "cell_type": "code",
   "execution_count": 23,
   "metadata": {},
   "outputs": [],
   "source": [
    "def Gender(g):\n",
    "    if g == '3000':\n",
    "        g = 'Male'\n",
    "    elif g == 'T001038':\n",
    "        g = np.NAN\n",
    "    elif g == '4000':\n",
    "        g = 'Female'\n",
    "    return g    \n",
    "\n",
    "df['gender'] = list(map(Gender, df['gender']))"
   ]
  },
  {
   "cell_type": "code",
   "execution_count": 24,
   "metadata": {},
   "outputs": [
    {
     "data": {
      "text/plain": [
       "Male      88523\n",
       "Female    80251\n",
       "Name: gender, dtype: int64"
      ]
     },
     "execution_count": 24,
     "metadata": {},
     "output_type": "execute_result"
    }
   ],
   "source": [
    "df['gender'].value_counts()"
   ]
  },
  {
   "cell_type": "code",
   "execution_count": 25,
   "metadata": {},
   "outputs": [
    {
     "data": {
      "text/plain": [
       "id                         0.00\n",
       "self_employment_type       0.00\n",
       "branch                     0.00\n",
       "person_characteristics     0.00\n",
       "gender                    36.38\n",
       "period                     0.00\n",
       "self_empl_persons          0.00\n",
       "avg_personal_income        0.00\n",
       "avg_self_empl_income       0.00\n",
       "dtype: float64"
      ]
     },
     "execution_count": 25,
     "metadata": {},
     "output_type": "execute_result"
    }
   ],
   "source": [
    "round(df.isna().sum()/len(df),4)*100 "
   ]
  },
  {
   "cell_type": "code",
   "execution_count": 26,
   "metadata": {},
   "outputs": [],
   "source": [
    "df = df.dropna()\n",
    "df = df.reset_index(drop=True)"
   ]
  },
  {
   "cell_type": "code",
   "execution_count": 27,
   "metadata": {},
   "outputs": [
    {
     "data": {
      "text/plain": [
       "2019JJ00    18933\n",
       "2018JJ00    18540\n",
       "2017JJ00    18457\n",
       "2016JJ00    18445\n",
       "2015JJ00    18410\n",
       "2014JJ00    18227\n",
       "2012JJ00    18092\n",
       "2011JJ00    18063\n",
       "2013JJ00    13324\n",
       "2020JJ00     8283\n",
       "Name: period, dtype: int64"
      ]
     },
     "execution_count": 27,
     "metadata": {},
     "output_type": "execute_result"
    }
   ],
   "source": [
    "df['period'].value_counts()"
   ]
  },
  {
   "cell_type": "code",
   "execution_count": 28,
   "metadata": {},
   "outputs": [],
   "source": [
    "df['period'] = df['period'].str.replace('JJ00', '')"
   ]
  },
  {
   "cell_type": "code",
   "execution_count": 29,
   "metadata": {},
   "outputs": [
    {
     "data": {
      "text/plain": [
       "2019    18933\n",
       "2018    18540\n",
       "2017    18457\n",
       "2016    18445\n",
       "2015    18410\n",
       "2014    18227\n",
       "2012    18092\n",
       "2011    18063\n",
       "2013    13324\n",
       "2020     8283\n",
       "Name: period, dtype: int64"
      ]
     },
     "execution_count": 29,
     "metadata": {},
     "output_type": "execute_result"
    }
   ],
   "source": [
    "df['period'].value_counts()"
   ]
  },
  {
   "cell_type": "code",
   "execution_count": 30,
   "metadata": {
    "scrolled": true
   },
   "outputs": [
    {
     "data": {
      "text/html": [
       "<div>\n",
       "<style scoped>\n",
       "    .dataframe tbody tr th:only-of-type {\n",
       "        vertical-align: middle;\n",
       "    }\n",
       "\n",
       "    .dataframe tbody tr th {\n",
       "        vertical-align: top;\n",
       "    }\n",
       "\n",
       "    .dataframe thead th {\n",
       "        text-align: right;\n",
       "    }\n",
       "</style>\n",
       "<table border=\"1\" class=\"dataframe\">\n",
       "  <thead>\n",
       "    <tr style=\"text-align: right;\">\n",
       "      <th></th>\n",
       "      <th>id</th>\n",
       "      <th>self_employment_type</th>\n",
       "      <th>branch</th>\n",
       "      <th>person_characteristics</th>\n",
       "      <th>gender</th>\n",
       "      <th>period</th>\n",
       "      <th>self_empl_persons</th>\n",
       "      <th>avg_personal_income</th>\n",
       "      <th>avg_self_empl_income</th>\n",
       "    </tr>\n",
       "  </thead>\n",
       "  <tbody>\n",
       "    <tr>\n",
       "      <th>0</th>\n",
       "      <td>18</td>\n",
       "      <td>1st_category_group</td>\n",
       "      <td>T001081</td>\n",
       "      <td>T009002</td>\n",
       "      <td>Male</td>\n",
       "      <td>2011</td>\n",
       "      <td>682.6</td>\n",
       "      <td>47.4</td>\n",
       "      <td>38.6</td>\n",
       "    </tr>\n",
       "    <tr>\n",
       "      <th>1</th>\n",
       "      <td>19</td>\n",
       "      <td>1st_category_group</td>\n",
       "      <td>T001081</td>\n",
       "      <td>T009002</td>\n",
       "      <td>Male</td>\n",
       "      <td>2012</td>\n",
       "      <td>692.5</td>\n",
       "      <td>46.3</td>\n",
       "      <td>37.1</td>\n",
       "    </tr>\n",
       "    <tr>\n",
       "      <th>2</th>\n",
       "      <td>20</td>\n",
       "      <td>1st_category_group</td>\n",
       "      <td>T001081</td>\n",
       "      <td>T009002</td>\n",
       "      <td>Male</td>\n",
       "      <td>2013</td>\n",
       "      <td>699.1</td>\n",
       "      <td>46.1</td>\n",
       "      <td>36.6</td>\n",
       "    </tr>\n",
       "    <tr>\n",
       "      <th>3</th>\n",
       "      <td>21</td>\n",
       "      <td>1st_category_group</td>\n",
       "      <td>T001081</td>\n",
       "      <td>T009002</td>\n",
       "      <td>Male</td>\n",
       "      <td>2014</td>\n",
       "      <td>717.2</td>\n",
       "      <td>47.5</td>\n",
       "      <td>37.9</td>\n",
       "    </tr>\n",
       "    <tr>\n",
       "      <th>4</th>\n",
       "      <td>22</td>\n",
       "      <td>1st_category_group</td>\n",
       "      <td>T001081</td>\n",
       "      <td>T009002</td>\n",
       "      <td>Male</td>\n",
       "      <td>2015</td>\n",
       "      <td>735.7</td>\n",
       "      <td>48.2</td>\n",
       "      <td>39.0</td>\n",
       "    </tr>\n",
       "  </tbody>\n",
       "</table>\n",
       "</div>"
      ],
      "text/plain": [
       "   id self_employment_type   branch person_characteristics gender period  \\\n",
       "0  18   1st_category_group  T001081                T009002   Male   2011   \n",
       "1  19   1st_category_group  T001081                T009002   Male   2012   \n",
       "2  20   1st_category_group  T001081                T009002   Male   2013   \n",
       "3  21   1st_category_group  T001081                T009002   Male   2014   \n",
       "4  22   1st_category_group  T001081                T009002   Male   2015   \n",
       "\n",
       "   self_empl_persons  avg_personal_income  avg_self_empl_income  \n",
       "0              682.6                 47.4                  38.6  \n",
       "1              692.5                 46.3                  37.1  \n",
       "2              699.1                 46.1                  36.6  \n",
       "3              717.2                 47.5                  37.9  \n",
       "4              735.7                 48.2                  39.0  "
      ]
     },
     "execution_count": 30,
     "metadata": {},
     "output_type": "execute_result"
    }
   ],
   "source": [
    "df.head()"
   ]
  },
  {
   "cell_type": "code",
   "execution_count": 31,
   "metadata": {},
   "outputs": [
    {
     "data": {
      "text/plain": [
       "T001081    8976\n",
       "300007     8635\n",
       "300006     8039\n",
       "300010     7943\n",
       "300013     7931\n",
       "354200     7612\n",
       "403300     7540\n",
       "300012     7370\n",
       "300003     7082\n",
       "300014     7078\n",
       "422400     7051\n",
       "410200     6712\n",
       "389100     6594\n",
       "350000     6474\n",
       "435500     6277\n",
       "300002     6233\n",
       "307500     6186\n",
       "301000     5977\n",
       "383100     5911\n",
       "428100     5859\n",
       "391600     5797\n",
       "419000     5715\n",
       "396300     5393\n",
       "402000     4560\n",
       "999999     4514\n",
       "348000      671\n",
       "346600      341\n",
       "417400      208\n",
       "305700       95\n",
       "Name: branch, dtype: int64"
      ]
     },
     "execution_count": 31,
     "metadata": {},
     "output_type": "execute_result"
    }
   ],
   "source": [
    "df['branch'].value_counts()"
   ]
  },
  {
   "cell_type": "code",
   "execution_count": 32,
   "metadata": {},
   "outputs": [],
   "source": [
    "def Branches(b):\n",
    "    if b in ['T001081','300002', '300003', '300006', '300007', '300010', '300012', '300013', '300014']:\n",
    "        b = np.NAN\n",
    "    elif b == '301000':\n",
    "        b = 'Agriculture, forestry and fishing'\n",
    "    elif b == '305700':\n",
    "        b = 'Mining and quarrying'\n",
    "    elif b == '307500':\n",
    "        b = 'Manufacturing'\n",
    "    elif b == '346600':\n",
    "        b = 'Energy supply'\n",
    "    elif b == '348000':\n",
    "        b = 'Water supply and waste management'\n",
    "    elif b == '350000':\n",
    "        b = 'Construction'\n",
    "    elif b == '354200':\n",
    "        b = 'Wholesale and retail trade'    \n",
    "    elif b == '383100':\n",
    "        b = 'Transportation and storage'\n",
    "    elif b == '389100':\n",
    "        b = 'Accommodation and food serving'\n",
    "    elif b == '391600':\n",
    "        b = 'Information and communication'\n",
    "    elif b == '396300':\n",
    "        b = 'Financial institutions'\n",
    "    elif b == '402000':\n",
    "        b = 'Renting, buying, selling real estates'\n",
    "    elif b == '403300':\n",
    "        b = 'Other specialised business services'\n",
    "    elif b == '410200':\n",
    "        b = 'Renting and other business support'\n",
    "    elif b == '417400':\n",
    "        b = 'Public administration and services'\n",
    "    elif b == '419000':\n",
    "        b = 'Education' \n",
    "    elif b == '422400':\n",
    "        b = 'Health and social work activities'\n",
    "    elif b == '428100':\n",
    "        b = 'Culture, sports and recreation'\n",
    "    elif b == '435500':\n",
    "        b = 'Other service activities'\n",
    "    elif b == '440000':\n",
    "        b = 'Activities of households'\n",
    "    elif b == '440900':\n",
    "        b = 'Extraterritorial organisations'\n",
    "    elif b == '999999':\n",
    "        b = 'Unknown'\n",
    "    return b    \n",
    "\n",
    "\n",
    "df['branch'] = df['branch'].apply(Branches)"
   ]
  },
  {
   "cell_type": "code",
   "execution_count": 33,
   "metadata": {},
   "outputs": [
    {
     "data": {
      "text/plain": [
       "Wholesale and retail trade               7612\n",
       "Other specialised business services      7540\n",
       "Health and social work activities        7051\n",
       "Renting and other business support       6712\n",
       "Accommodation and food serving           6594\n",
       "Construction                             6474\n",
       "Other service activities                 6277\n",
       "Manufacturing                            6186\n",
       "Agriculture, forestry and fishing        5977\n",
       "Transportation and storage               5911\n",
       "Culture, sports and recreation           5859\n",
       "Information and communication            5797\n",
       "Education                                5715\n",
       "Financial institutions                   5393\n",
       "Renting, buying, selling real estates    4560\n",
       "Unknown                                  4514\n",
       "Water supply and waste management         671\n",
       "Energy supply                             341\n",
       "Public administration and services        208\n",
       "Mining and quarrying                       95\n",
       "Name: branch, dtype: int64"
      ]
     },
     "execution_count": 33,
     "metadata": {},
     "output_type": "execute_result"
    }
   ],
   "source": [
    "df['branch'].value_counts()"
   ]
  },
  {
   "cell_type": "code",
   "execution_count": 34,
   "metadata": {},
   "outputs": [
    {
     "data": {
      "text/plain": [
       "id                         0.00\n",
       "self_employment_type       0.00\n",
       "branch                    41.05\n",
       "person_characteristics     0.00\n",
       "gender                     0.00\n",
       "period                     0.00\n",
       "self_empl_persons          0.00\n",
       "avg_personal_income        0.00\n",
       "avg_self_empl_income       0.00\n",
       "dtype: float64"
      ]
     },
     "execution_count": 34,
     "metadata": {},
     "output_type": "execute_result"
    }
   ],
   "source": [
    "round(df.isna().sum()/len(df),4)*100 "
   ]
  },
  {
   "cell_type": "code",
   "execution_count": 35,
   "metadata": {},
   "outputs": [],
   "source": [
    "df = df.dropna()\n",
    "df = df.reset_index(drop=True)"
   ]
  },
  {
   "cell_type": "code",
   "execution_count": 36,
   "metadata": {},
   "outputs": [
    {
     "data": {
      "text/plain": [
       "T009002    4017\n",
       "1012600    3963\n",
       "1016420    3633\n",
       "1016411    3605\n",
       "53800      3591\n",
       "1020960    3501\n",
       "53900      3419\n",
       "53700      3407\n",
       "1016410    3380\n",
       "1021150    3207\n",
       "1020950    3177\n",
       "1016400    3087\n",
       "1020940    3006\n",
       "53500      3001\n",
       "2012655    2892\n",
       "1020930    2881\n",
       "1021140    2790\n",
       "1020920    2759\n",
       "2012657    2678\n",
       "1021130    2664\n",
       "1020910    2631\n",
       "1021060    2598\n",
       "1021120    2593\n",
       "1020900    2457\n",
       "1021110    2435\n",
       "53925      2373\n",
       "1020890    2223\n",
       "1020870    2161\n",
       "1021100    2140\n",
       "1020880    2090\n",
       "1021070    1945\n",
       "1016460    1881\n",
       "1021090    1790\n",
       "41500      1732\n",
       "1021080    1558\n",
       "1016520    1455\n",
       "21600       767\n",
       "Name: person_characteristics, dtype: int64"
      ]
     },
     "execution_count": 36,
     "metadata": {},
     "output_type": "execute_result"
    }
   ],
   "source": [
    "df['person_characteristics'].value_counts()"
   ]
  },
  {
   "cell_type": "code",
   "execution_count": 37,
   "metadata": {},
   "outputs": [],
   "source": [
    "def person(p):\n",
    "    if p == 'T009002':\n",
    "        p = np.NAN\n",
    "    else:\n",
    "        return p    \n",
    "\n",
    "df['person_characteristics'] = list(map(person, df['person_characteristics']))"
   ]
  },
  {
   "cell_type": "code",
   "execution_count": 38,
   "metadata": {},
   "outputs": [
    {
     "data": {
      "text/plain": [
       "id                        0.00\n",
       "self_employment_type      0.00\n",
       "branch                    0.00\n",
       "person_characteristics    4.04\n",
       "gender                    0.00\n",
       "period                    0.00\n",
       "self_empl_persons         0.00\n",
       "avg_personal_income       0.00\n",
       "avg_self_empl_income      0.00\n",
       "dtype: float64"
      ]
     },
     "execution_count": 38,
     "metadata": {},
     "output_type": "execute_result"
    }
   ],
   "source": [
    "round(df.isna().sum()/len(df),4)*100"
   ]
  },
  {
   "cell_type": "code",
   "execution_count": 39,
   "metadata": {},
   "outputs": [],
   "source": [
    "df = df.dropna()\n",
    "df = df.reset_index(drop=True)"
   ]
  },
  {
   "cell_type": "code",
   "execution_count": 40,
   "metadata": {},
   "outputs": [
    {
     "data": {
      "text/html": [
       "<div>\n",
       "<style scoped>\n",
       "    .dataframe tbody tr th:only-of-type {\n",
       "        vertical-align: middle;\n",
       "    }\n",
       "\n",
       "    .dataframe tbody tr th {\n",
       "        vertical-align: top;\n",
       "    }\n",
       "\n",
       "    .dataframe thead th {\n",
       "        text-align: right;\n",
       "    }\n",
       "</style>\n",
       "<table border=\"1\" class=\"dataframe\">\n",
       "  <thead>\n",
       "    <tr style=\"text-align: right;\">\n",
       "      <th></th>\n",
       "      <th>id</th>\n",
       "      <th>self_employment_type</th>\n",
       "      <th>branch</th>\n",
       "      <th>person_characteristics</th>\n",
       "      <th>gender</th>\n",
       "      <th>period</th>\n",
       "      <th>self_empl_persons</th>\n",
       "      <th>avg_personal_income</th>\n",
       "      <th>avg_self_empl_income</th>\n",
       "    </tr>\n",
       "  </thead>\n",
       "  <tbody>\n",
       "    <tr>\n",
       "      <th>0</th>\n",
       "      <td>14424</td>\n",
       "      <td>1st_category_group</td>\n",
       "      <td>Agriculture, forestry and fishing</td>\n",
       "      <td>21600</td>\n",
       "      <td>Male</td>\n",
       "      <td>2011</td>\n",
       "      <td>1.1</td>\n",
       "      <td>31.6</td>\n",
       "      <td>18.1</td>\n",
       "    </tr>\n",
       "    <tr>\n",
       "      <th>1</th>\n",
       "      <td>14425</td>\n",
       "      <td>1st_category_group</td>\n",
       "      <td>Agriculture, forestry and fishing</td>\n",
       "      <td>21600</td>\n",
       "      <td>Male</td>\n",
       "      <td>2012</td>\n",
       "      <td>1.1</td>\n",
       "      <td>33.0</td>\n",
       "      <td>18.8</td>\n",
       "    </tr>\n",
       "    <tr>\n",
       "      <th>2</th>\n",
       "      <td>14426</td>\n",
       "      <td>1st_category_group</td>\n",
       "      <td>Agriculture, forestry and fishing</td>\n",
       "      <td>21600</td>\n",
       "      <td>Male</td>\n",
       "      <td>2013</td>\n",
       "      <td>1.2</td>\n",
       "      <td>34.8</td>\n",
       "      <td>18.9</td>\n",
       "    </tr>\n",
       "    <tr>\n",
       "      <th>3</th>\n",
       "      <td>14427</td>\n",
       "      <td>1st_category_group</td>\n",
       "      <td>Agriculture, forestry and fishing</td>\n",
       "      <td>21600</td>\n",
       "      <td>Male</td>\n",
       "      <td>2014</td>\n",
       "      <td>1.2</td>\n",
       "      <td>29.9</td>\n",
       "      <td>18.0</td>\n",
       "    </tr>\n",
       "    <tr>\n",
       "      <th>4</th>\n",
       "      <td>14428</td>\n",
       "      <td>1st_category_group</td>\n",
       "      <td>Agriculture, forestry and fishing</td>\n",
       "      <td>21600</td>\n",
       "      <td>Male</td>\n",
       "      <td>2015</td>\n",
       "      <td>1.2</td>\n",
       "      <td>28.2</td>\n",
       "      <td>17.2</td>\n",
       "    </tr>\n",
       "    <tr>\n",
       "      <th>...</th>\n",
       "      <td>...</td>\n",
       "      <td>...</td>\n",
       "      <td>...</td>\n",
       "      <td>...</td>\n",
       "      <td>...</td>\n",
       "      <td>...</td>\n",
       "      <td>...</td>\n",
       "      <td>...</td>\n",
       "      <td>...</td>\n",
       "    </tr>\n",
       "    <tr>\n",
       "      <th>95465</th>\n",
       "      <td>643183</td>\n",
       "      <td>5th_category_group</td>\n",
       "      <td>Unknown</td>\n",
       "      <td>1021150</td>\n",
       "      <td>Female</td>\n",
       "      <td>2016</td>\n",
       "      <td>5.1</td>\n",
       "      <td>12.8</td>\n",
       "      <td>7.5</td>\n",
       "    </tr>\n",
       "    <tr>\n",
       "      <th>95466</th>\n",
       "      <td>643184</td>\n",
       "      <td>5th_category_group</td>\n",
       "      <td>Unknown</td>\n",
       "      <td>1021150</td>\n",
       "      <td>Female</td>\n",
       "      <td>2017</td>\n",
       "      <td>5.0</td>\n",
       "      <td>13.7</td>\n",
       "      <td>7.9</td>\n",
       "    </tr>\n",
       "    <tr>\n",
       "      <th>95467</th>\n",
       "      <td>643185</td>\n",
       "      <td>5th_category_group</td>\n",
       "      <td>Unknown</td>\n",
       "      <td>1021150</td>\n",
       "      <td>Female</td>\n",
       "      <td>2018</td>\n",
       "      <td>5.2</td>\n",
       "      <td>14.0</td>\n",
       "      <td>8.2</td>\n",
       "    </tr>\n",
       "    <tr>\n",
       "      <th>95468</th>\n",
       "      <td>643186</td>\n",
       "      <td>5th_category_group</td>\n",
       "      <td>Unknown</td>\n",
       "      <td>1021150</td>\n",
       "      <td>Female</td>\n",
       "      <td>2019</td>\n",
       "      <td>3.5</td>\n",
       "      <td>15.1</td>\n",
       "      <td>10.0</td>\n",
       "    </tr>\n",
       "    <tr>\n",
       "      <th>95469</th>\n",
       "      <td>643187</td>\n",
       "      <td>5th_category_group</td>\n",
       "      <td>Unknown</td>\n",
       "      <td>1021150</td>\n",
       "      <td>Female</td>\n",
       "      <td>2020</td>\n",
       "      <td>3.3</td>\n",
       "      <td>15.0</td>\n",
       "      <td>10.0</td>\n",
       "    </tr>\n",
       "  </tbody>\n",
       "</table>\n",
       "<p>95470 rows × 9 columns</p>\n",
       "</div>"
      ],
      "text/plain": [
       "           id self_employment_type                             branch  \\\n",
       "0       14424   1st_category_group  Agriculture, forestry and fishing   \n",
       "1       14425   1st_category_group  Agriculture, forestry and fishing   \n",
       "2       14426   1st_category_group  Agriculture, forestry and fishing   \n",
       "3       14427   1st_category_group  Agriculture, forestry and fishing   \n",
       "4       14428   1st_category_group  Agriculture, forestry and fishing   \n",
       "...       ...                  ...                                ...   \n",
       "95465  643183   5th_category_group                            Unknown   \n",
       "95466  643184   5th_category_group                            Unknown   \n",
       "95467  643185   5th_category_group                            Unknown   \n",
       "95468  643186   5th_category_group                            Unknown   \n",
       "95469  643187   5th_category_group                            Unknown   \n",
       "\n",
       "      person_characteristics  gender period  self_empl_persons  \\\n",
       "0                      21600    Male   2011                1.1   \n",
       "1                      21600    Male   2012                1.1   \n",
       "2                      21600    Male   2013                1.2   \n",
       "3                      21600    Male   2014                1.2   \n",
       "4                      21600    Male   2015                1.2   \n",
       "...                      ...     ...    ...                ...   \n",
       "95465                1021150  Female   2016                5.1   \n",
       "95466                1021150  Female   2017                5.0   \n",
       "95467                1021150  Female   2018                5.2   \n",
       "95468                1021150  Female   2019                3.5   \n",
       "95469                1021150  Female   2020                3.3   \n",
       "\n",
       "       avg_personal_income  avg_self_empl_income  \n",
       "0                     31.6                  18.1  \n",
       "1                     33.0                  18.8  \n",
       "2                     34.8                  18.9  \n",
       "3                     29.9                  18.0  \n",
       "4                     28.2                  17.2  \n",
       "...                    ...                   ...  \n",
       "95465                 12.8                   7.5  \n",
       "95466                 13.7                   7.9  \n",
       "95467                 14.0                   8.2  \n",
       "95468                 15.1                  10.0  \n",
       "95469                 15.0                  10.0  \n",
       "\n",
       "[95470 rows x 9 columns]"
      ]
     },
     "execution_count": 40,
     "metadata": {},
     "output_type": "execute_result"
    }
   ],
   "source": [
    "df"
   ]
  },
  {
   "cell_type": "markdown",
   "metadata": {},
   "source": [
    "### Store clean data to a .csv file"
   ]
  },
  {
   "cell_type": "code",
   "execution_count": 41,
   "metadata": {},
   "outputs": [],
   "source": [
    "df.to_csv('data/self_empl_cleared.csv', index = False)"
   ]
  },
  {
   "cell_type": "code",
   "execution_count": 42,
   "metadata": {},
   "outputs": [],
   "source": [
    "self_empl_cleared = df.copy()"
   ]
  },
  {
   "cell_type": "code",
   "execution_count": 43,
   "metadata": {},
   "outputs": [
    {
     "data": {
      "text/html": [
       "<div>\n",
       "<style scoped>\n",
       "    .dataframe tbody tr th:only-of-type {\n",
       "        vertical-align: middle;\n",
       "    }\n",
       "\n",
       "    .dataframe tbody tr th {\n",
       "        vertical-align: top;\n",
       "    }\n",
       "\n",
       "    .dataframe thead th {\n",
       "        text-align: right;\n",
       "    }\n",
       "</style>\n",
       "<table border=\"1\" class=\"dataframe\">\n",
       "  <thead>\n",
       "    <tr style=\"text-align: right;\">\n",
       "      <th></th>\n",
       "      <th>id</th>\n",
       "      <th>self_employment_type</th>\n",
       "      <th>branch</th>\n",
       "      <th>person_characteristics</th>\n",
       "      <th>gender</th>\n",
       "      <th>period</th>\n",
       "      <th>self_empl_persons</th>\n",
       "      <th>avg_personal_income</th>\n",
       "      <th>avg_self_empl_income</th>\n",
       "    </tr>\n",
       "  </thead>\n",
       "  <tbody>\n",
       "    <tr>\n",
       "      <th>0</th>\n",
       "      <td>14424</td>\n",
       "      <td>1st_category_group</td>\n",
       "      <td>Agriculture, forestry and fishing</td>\n",
       "      <td>21600</td>\n",
       "      <td>Male</td>\n",
       "      <td>2011</td>\n",
       "      <td>1.1</td>\n",
       "      <td>31.6</td>\n",
       "      <td>18.1</td>\n",
       "    </tr>\n",
       "    <tr>\n",
       "      <th>1</th>\n",
       "      <td>14425</td>\n",
       "      <td>1st_category_group</td>\n",
       "      <td>Agriculture, forestry and fishing</td>\n",
       "      <td>21600</td>\n",
       "      <td>Male</td>\n",
       "      <td>2012</td>\n",
       "      <td>1.1</td>\n",
       "      <td>33.0</td>\n",
       "      <td>18.8</td>\n",
       "    </tr>\n",
       "    <tr>\n",
       "      <th>2</th>\n",
       "      <td>14426</td>\n",
       "      <td>1st_category_group</td>\n",
       "      <td>Agriculture, forestry and fishing</td>\n",
       "      <td>21600</td>\n",
       "      <td>Male</td>\n",
       "      <td>2013</td>\n",
       "      <td>1.2</td>\n",
       "      <td>34.8</td>\n",
       "      <td>18.9</td>\n",
       "    </tr>\n",
       "    <tr>\n",
       "      <th>3</th>\n",
       "      <td>14427</td>\n",
       "      <td>1st_category_group</td>\n",
       "      <td>Agriculture, forestry and fishing</td>\n",
       "      <td>21600</td>\n",
       "      <td>Male</td>\n",
       "      <td>2014</td>\n",
       "      <td>1.2</td>\n",
       "      <td>29.9</td>\n",
       "      <td>18.0</td>\n",
       "    </tr>\n",
       "    <tr>\n",
       "      <th>4</th>\n",
       "      <td>14428</td>\n",
       "      <td>1st_category_group</td>\n",
       "      <td>Agriculture, forestry and fishing</td>\n",
       "      <td>21600</td>\n",
       "      <td>Male</td>\n",
       "      <td>2015</td>\n",
       "      <td>1.2</td>\n",
       "      <td>28.2</td>\n",
       "      <td>17.2</td>\n",
       "    </tr>\n",
       "    <tr>\n",
       "      <th>...</th>\n",
       "      <td>...</td>\n",
       "      <td>...</td>\n",
       "      <td>...</td>\n",
       "      <td>...</td>\n",
       "      <td>...</td>\n",
       "      <td>...</td>\n",
       "      <td>...</td>\n",
       "      <td>...</td>\n",
       "      <td>...</td>\n",
       "    </tr>\n",
       "    <tr>\n",
       "      <th>95465</th>\n",
       "      <td>643183</td>\n",
       "      <td>5th_category_group</td>\n",
       "      <td>Unknown</td>\n",
       "      <td>1021150</td>\n",
       "      <td>Female</td>\n",
       "      <td>2016</td>\n",
       "      <td>5.1</td>\n",
       "      <td>12.8</td>\n",
       "      <td>7.5</td>\n",
       "    </tr>\n",
       "    <tr>\n",
       "      <th>95466</th>\n",
       "      <td>643184</td>\n",
       "      <td>5th_category_group</td>\n",
       "      <td>Unknown</td>\n",
       "      <td>1021150</td>\n",
       "      <td>Female</td>\n",
       "      <td>2017</td>\n",
       "      <td>5.0</td>\n",
       "      <td>13.7</td>\n",
       "      <td>7.9</td>\n",
       "    </tr>\n",
       "    <tr>\n",
       "      <th>95467</th>\n",
       "      <td>643185</td>\n",
       "      <td>5th_category_group</td>\n",
       "      <td>Unknown</td>\n",
       "      <td>1021150</td>\n",
       "      <td>Female</td>\n",
       "      <td>2018</td>\n",
       "      <td>5.2</td>\n",
       "      <td>14.0</td>\n",
       "      <td>8.2</td>\n",
       "    </tr>\n",
       "    <tr>\n",
       "      <th>95468</th>\n",
       "      <td>643186</td>\n",
       "      <td>5th_category_group</td>\n",
       "      <td>Unknown</td>\n",
       "      <td>1021150</td>\n",
       "      <td>Female</td>\n",
       "      <td>2019</td>\n",
       "      <td>3.5</td>\n",
       "      <td>15.1</td>\n",
       "      <td>10.0</td>\n",
       "    </tr>\n",
       "    <tr>\n",
       "      <th>95469</th>\n",
       "      <td>643187</td>\n",
       "      <td>5th_category_group</td>\n",
       "      <td>Unknown</td>\n",
       "      <td>1021150</td>\n",
       "      <td>Female</td>\n",
       "      <td>2020</td>\n",
       "      <td>3.3</td>\n",
       "      <td>15.0</td>\n",
       "      <td>10.0</td>\n",
       "    </tr>\n",
       "  </tbody>\n",
       "</table>\n",
       "<p>95470 rows × 9 columns</p>\n",
       "</div>"
      ],
      "text/plain": [
       "           id self_employment_type                             branch  \\\n",
       "0       14424   1st_category_group  Agriculture, forestry and fishing   \n",
       "1       14425   1st_category_group  Agriculture, forestry and fishing   \n",
       "2       14426   1st_category_group  Agriculture, forestry and fishing   \n",
       "3       14427   1st_category_group  Agriculture, forestry and fishing   \n",
       "4       14428   1st_category_group  Agriculture, forestry and fishing   \n",
       "...       ...                  ...                                ...   \n",
       "95465  643183   5th_category_group                            Unknown   \n",
       "95466  643184   5th_category_group                            Unknown   \n",
       "95467  643185   5th_category_group                            Unknown   \n",
       "95468  643186   5th_category_group                            Unknown   \n",
       "95469  643187   5th_category_group                            Unknown   \n",
       "\n",
       "      person_characteristics  gender period  self_empl_persons  \\\n",
       "0                      21600    Male   2011                1.1   \n",
       "1                      21600    Male   2012                1.1   \n",
       "2                      21600    Male   2013                1.2   \n",
       "3                      21600    Male   2014                1.2   \n",
       "4                      21600    Male   2015                1.2   \n",
       "...                      ...     ...    ...                ...   \n",
       "95465                1021150  Female   2016                5.1   \n",
       "95466                1021150  Female   2017                5.0   \n",
       "95467                1021150  Female   2018                5.2   \n",
       "95468                1021150  Female   2019                3.5   \n",
       "95469                1021150  Female   2020                3.3   \n",
       "\n",
       "       avg_personal_income  avg_self_empl_income  \n",
       "0                     31.6                  18.1  \n",
       "1                     33.0                  18.8  \n",
       "2                     34.8                  18.9  \n",
       "3                     29.9                  18.0  \n",
       "4                     28.2                  17.2  \n",
       "...                    ...                   ...  \n",
       "95465                 12.8                   7.5  \n",
       "95466                 13.7                   7.9  \n",
       "95467                 14.0                   8.2  \n",
       "95468                 15.1                  10.0  \n",
       "95469                 15.0                  10.0  \n",
       "\n",
       "[95470 rows x 9 columns]"
      ]
     },
     "execution_count": 43,
     "metadata": {},
     "output_type": "execute_result"
    }
   ],
   "source": [
    "self_empl_cleared"
   ]
  },
  {
   "cell_type": "markdown",
   "metadata": {},
   "source": [
    "### Store clean data to MySQL Workbench DB"
   ]
  },
  {
   "cell_type": "code",
   "execution_count": 44,
   "metadata": {},
   "outputs": [
    {
     "name": "stdout",
     "output_type": "stream",
     "text": [
      "Table self_empl_cleared created successfully.\n"
     ]
    }
   ],
   "source": [
    "tableName   = 'self_empl_cleared' # name of your final dataframe\n",
    "\n",
    "dataFrame   = pd.DataFrame(data = df)\n",
    "\n",
    "dbConnection    = engine.connect()\n",
    "\n",
    "try:\n",
    "\n",
    "    frame           = dataFrame.to_sql(tableName, dbConnection, if_exists='fail');\n",
    "\n",
    "except ValueError as vx:\n",
    "\n",
    "    print(vx)\n",
    "\n",
    "except Exception as ex:   \n",
    "\n",
    "    print(ex)\n",
    "\n",
    "else:\n",
    "\n",
    "    print(\"Table %s created successfully.\"%tableName);   \n",
    "\n",
    "finally:\n",
    "\n",
    "    dbConnection.close()"
   ]
  }
 ],
 "metadata": {
  "kernelspec": {
   "display_name": "Python 3",
   "language": "python",
   "name": "python3"
  },
  "language_info": {
   "codemirror_mode": {
    "name": "ipython",
    "version": 3
   },
   "file_extension": ".py",
   "mimetype": "text/x-python",
   "name": "python",
   "nbconvert_exporter": "python",
   "pygments_lexer": "ipython3",
   "version": "3.8.5"
  }
 },
 "nbformat": 4,
 "nbformat_minor": 4
}
