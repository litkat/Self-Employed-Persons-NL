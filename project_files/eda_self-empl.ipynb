{
 "cells": [
  {
   "cell_type": "code",
   "execution_count": 1,
   "metadata": {},
   "outputs": [
    {
     "name": "stdout",
     "output_type": "stream",
     "text": [
      "········\n"
     ]
    }
   ],
   "source": [
    "#Import of necessary libraries to work\n",
    "import pandas as pd\n",
    "import numpy as np\n",
    "import matplotlib.pyplot as plt\n",
    "import seaborn as sns\n",
    "\n",
    "%matplotlib inline\n",
    "\n",
    "import pymysql\n",
    "from sqlalchemy import create_engine\n",
    "import getpass\n",
    "password = getpass.getpass()\n",
    "\n",
    "import warnings\n",
    "warnings.filterwarnings('ignore')"
   ]
  },
  {
   "cell_type": "code",
   "execution_count": 2,
   "metadata": {},
   "outputs": [],
   "source": [
    "connection_string = 'mysql+pymysql://root:' + password + '@localhost/self1'\n",
    "engine = create_engine(connection_string)"
   ]
  },
  {
   "cell_type": "markdown",
   "metadata": {},
   "source": [
    "### Reading data from MySQL Workbench DB"
   ]
  },
  {
   "cell_type": "code",
   "execution_count": 3,
   "metadata": {},
   "outputs": [
    {
     "data": {
      "text/html": [
       "<div>\n",
       "<style scoped>\n",
       "    .dataframe tbody tr th:only-of-type {\n",
       "        vertical-align: middle;\n",
       "    }\n",
       "\n",
       "    .dataframe tbody tr th {\n",
       "        vertical-align: top;\n",
       "    }\n",
       "\n",
       "    .dataframe thead th {\n",
       "        text-align: right;\n",
       "    }\n",
       "</style>\n",
       "<table border=\"1\" class=\"dataframe\">\n",
       "  <thead>\n",
       "    <tr style=\"text-align: right;\">\n",
       "      <th></th>\n",
       "      <th>index</th>\n",
       "      <th>id</th>\n",
       "      <th>self_employment_type</th>\n",
       "      <th>branch</th>\n",
       "      <th>person_characteristics</th>\n",
       "      <th>gender</th>\n",
       "      <th>period</th>\n",
       "      <th>self_empl_persons</th>\n",
       "      <th>avg_personal_income</th>\n",
       "      <th>avg_self_empl_income</th>\n",
       "    </tr>\n",
       "  </thead>\n",
       "  <tbody>\n",
       "    <tr>\n",
       "      <th>0</th>\n",
       "      <td>0</td>\n",
       "      <td>14424</td>\n",
       "      <td>1st_category_group</td>\n",
       "      <td>Agriculture, forestry and fishing</td>\n",
       "      <td>21600</td>\n",
       "      <td>Male</td>\n",
       "      <td>2011</td>\n",
       "      <td>1.1</td>\n",
       "      <td>31.6</td>\n",
       "      <td>18.1</td>\n",
       "    </tr>\n",
       "    <tr>\n",
       "      <th>1</th>\n",
       "      <td>1</td>\n",
       "      <td>14425</td>\n",
       "      <td>1st_category_group</td>\n",
       "      <td>Agriculture, forestry and fishing</td>\n",
       "      <td>21600</td>\n",
       "      <td>Male</td>\n",
       "      <td>2012</td>\n",
       "      <td>1.1</td>\n",
       "      <td>33.0</td>\n",
       "      <td>18.8</td>\n",
       "    </tr>\n",
       "    <tr>\n",
       "      <th>2</th>\n",
       "      <td>2</td>\n",
       "      <td>14426</td>\n",
       "      <td>1st_category_group</td>\n",
       "      <td>Agriculture, forestry and fishing</td>\n",
       "      <td>21600</td>\n",
       "      <td>Male</td>\n",
       "      <td>2013</td>\n",
       "      <td>1.2</td>\n",
       "      <td>34.8</td>\n",
       "      <td>18.9</td>\n",
       "    </tr>\n",
       "    <tr>\n",
       "      <th>3</th>\n",
       "      <td>3</td>\n",
       "      <td>14427</td>\n",
       "      <td>1st_category_group</td>\n",
       "      <td>Agriculture, forestry and fishing</td>\n",
       "      <td>21600</td>\n",
       "      <td>Male</td>\n",
       "      <td>2014</td>\n",
       "      <td>1.2</td>\n",
       "      <td>29.9</td>\n",
       "      <td>18.0</td>\n",
       "    </tr>\n",
       "    <tr>\n",
       "      <th>4</th>\n",
       "      <td>4</td>\n",
       "      <td>14428</td>\n",
       "      <td>1st_category_group</td>\n",
       "      <td>Agriculture, forestry and fishing</td>\n",
       "      <td>21600</td>\n",
       "      <td>Male</td>\n",
       "      <td>2015</td>\n",
       "      <td>1.2</td>\n",
       "      <td>28.2</td>\n",
       "      <td>17.2</td>\n",
       "    </tr>\n",
       "  </tbody>\n",
       "</table>\n",
       "</div>"
      ],
      "text/plain": [
       "   index     id self_employment_type                             branch  \\\n",
       "0      0  14424   1st_category_group  Agriculture, forestry and fishing   \n",
       "1      1  14425   1st_category_group  Agriculture, forestry and fishing   \n",
       "2      2  14426   1st_category_group  Agriculture, forestry and fishing   \n",
       "3      3  14427   1st_category_group  Agriculture, forestry and fishing   \n",
       "4      4  14428   1st_category_group  Agriculture, forestry and fishing   \n",
       "\n",
       "  person_characteristics gender period  self_empl_persons  \\\n",
       "0                  21600   Male   2011                1.1   \n",
       "1                  21600   Male   2012                1.1   \n",
       "2                  21600   Male   2013                1.2   \n",
       "3                  21600   Male   2014                1.2   \n",
       "4                  21600   Male   2015                1.2   \n",
       "\n",
       "   avg_personal_income  avg_self_empl_income  \n",
       "0                 31.6                  18.1  \n",
       "1                 33.0                  18.8  \n",
       "2                 34.8                  18.9  \n",
       "3                 29.9                  18.0  \n",
       "4                 28.2                  17.2  "
      ]
     },
     "execution_count": 3,
     "metadata": {},
     "output_type": "execute_result"
    }
   ],
   "source": [
    "query = '''SELECT * FROM self_empl_cleared;'''\n",
    "\n",
    "data= pd.read_sql_query(query, engine)\n",
    "data.head()"
   ]
  },
  {
   "cell_type": "code",
   "execution_count": 4,
   "metadata": {},
   "outputs": [],
   "source": [
    "data = data.drop('index',axis = 1)"
   ]
  },
  {
   "cell_type": "code",
   "execution_count": 5,
   "metadata": {},
   "outputs": [
    {
     "name": "stdout",
     "output_type": "stream",
     "text": [
      "<class 'pandas.core.frame.DataFrame'>\n",
      "RangeIndex: 95470 entries, 0 to 95469\n",
      "Data columns (total 9 columns):\n",
      " #   Column                  Non-Null Count  Dtype  \n",
      "---  ------                  --------------  -----  \n",
      " 0   id                      95470 non-null  int64  \n",
      " 1   self_employment_type    95470 non-null  object \n",
      " 2   branch                  95470 non-null  object \n",
      " 3   person_characteristics  95470 non-null  object \n",
      " 4   gender                  95470 non-null  object \n",
      " 5   period                  95470 non-null  object \n",
      " 6   self_empl_persons       95470 non-null  float64\n",
      " 7   avg_personal_income     95470 non-null  float64\n",
      " 8   avg_self_empl_income    95470 non-null  float64\n",
      "dtypes: float64(3), int64(1), object(5)\n",
      "memory usage: 6.6+ MB\n"
     ]
    }
   ],
   "source": [
    "data.info()"
   ]
  },
  {
   "cell_type": "markdown",
   "metadata": {},
   "source": [
    "## Exploratory data"
   ]
  },
  {
   "cell_type": "code",
   "execution_count": 6,
   "metadata": {},
   "outputs": [],
   "source": [
    "numeric = data.select_dtypes(include = np.number)\n",
    "categorical = data.select_dtypes(include = np.object)"
   ]
  },
  {
   "cell_type": "markdown",
   "metadata": {},
   "source": [
    "### Check the normality of the numerical variables visually"
   ]
  },
  {
   "cell_type": "code",
   "execution_count": 7,
   "metadata": {},
   "outputs": [
    {
     "data": {
      "image/png": "[encoded data removed]",
      "text/plain": [
       "<Figure size 360x360 with 1 Axes>"
      ]
     },
     "metadata": {
      "needs_background": "light"
     },
     "output_type": "display_data"
    },
    {
     "data": {
      "image/png": "[encoded data removed]",
      "text/plain": [
       "<Figure size 360x360 with 1 Axes>"
      ]
     },
     "metadata": {
      "needs_background": "light"
     },
     "output_type": "display_data"
    },
    {
     "data": {
      "image/png": "[encoded data removed]",
      "text/plain": [
       "<Figure size 360x360 with 1 Axes>"
      ]
     },
     "metadata": {
      "needs_background": "light"
     },
     "output_type": "display_data"
    },
    {
     "data": {
      "image/png": "[encoded data removed]",
      "text/plain": [
       "<Figure size 360x360 with 1 Axes>"
      ]
     },
     "metadata": {
      "needs_background": "light"
     },
     "output_type": "display_data"
    }
   ],
   "source": [
    "for i in numeric.columns:\n",
    "    sns.displot(x = i, data = numeric, bins=40)\n",
    "    plt.show()"
   ]
  },
  {
   "cell_type": "code",
   "execution_count": 8,
   "metadata": {},
   "outputs": [
    {
     "data": {
      "image/png": "[encoded data removed]",
      "text/plain": [
       "<Figure size 432x288 with 1 Axes>"
      ]
     },
     "metadata": {
      "needs_background": "light"
     },
     "output_type": "display_data"
    },
    {
     "data": {
      "image/png": "[encoded data removed]",
      "text/plain": [
       "<Figure size 432x288 with 1 Axes>"
      ]
     },
     "metadata": {
      "needs_background": "light"
     },
     "output_type": "display_data"
    },
    {
     "data": {
      "image/png": "[encoded data removed]",
      "text/plain": [
       "<Figure size 432x288 with 1 Axes>"
      ]
     },
     "metadata": {
      "needs_background": "light"
     },
     "output_type": "display_data"
    },
    {
     "data": {
      "image/png": "[encoded data removed]",
      "text/plain": [
       "<Figure size 432x288 with 1 Axes>"
      ]
     },
     "metadata": {
      "needs_background": "light"
     },
     "output_type": "display_data"
    }
   ],
   "source": [
    "for i in numeric.columns:\n",
    "    sns.boxplot(x = i, data = numeric)\n",
    "    plt.show()"
   ]
  },
  {
   "cell_type": "markdown",
   "metadata": {},
   "source": [
    "###  Removing some outliers"
   ]
  },
  {
   "cell_type": "code",
   "execution_count": 9,
   "metadata": {},
   "outputs": [
    {
     "name": "stdout",
     "output_type": "stream",
     "text": [
      "avg_personal_income: 2371\n",
      "avg_self_empl_income: 1756\n"
     ]
    }
   ],
   "source": [
    "iqr_1= np.nanpercentile(numeric['avg_personal_income'],75) - np.nanpercentile(numeric['avg_personal_income'],25)\n",
    "upper_limit_1 = np.nanpercentile(numeric['avg_personal_income'],75) + 1.5*iqr_1\n",
    "extraordinary_points_1 = numeric[numeric['avg_personal_income'] > upper_limit_1] \n",
    "\n",
    "iqr_2= np.nanpercentile(numeric['avg_self_empl_income'],75) - np.nanpercentile(numeric['avg_self_empl_income'],25)\n",
    "upper_limit_2 = np.nanpercentile(numeric['avg_self_empl_income'],75) + 1.5*iqr_2\n",
    "extraordinary_points_3 = numeric[numeric['avg_self_empl_income'] > upper_limit_2] \n",
    "\n",
    "# This checks the number of points that will be removed\n",
    "print('avg_personal_income:', len(extraordinary_points_1))\n",
    "print('avg_self_empl_income:', len(extraordinary_points_3))"
   ]
  },
  {
   "cell_type": "code",
   "execution_count": 10,
   "metadata": {},
   "outputs": [],
   "source": [
    "numeric = numeric[numeric['avg_personal_income'] < upper_limit_1]\n",
    "numeric = numeric[numeric['avg_self_empl_income'] < upper_limit_2 ]"
   ]
  },
  {
   "cell_type": "code",
   "execution_count": 11,
   "metadata": {},
   "outputs": [
    {
     "data": {
      "image/png": "[encoded data removed]",
      "text/plain": [
       "<Figure size 432x288 with 1 Axes>"
      ]
     },
     "metadata": {
      "needs_background": "light"
     },
     "output_type": "display_data"
    },
    {
     "data": {
      "image/png": "[encoded data removed]",
      "text/plain": [
       "<Figure size 432x288 with 1 Axes>"
      ]
     },
     "metadata": {
      "needs_background": "light"
     },
     "output_type": "display_data"
    },
    {
     "data": {
      "image/png": "[encoded data removed]",
      "text/plain": [
       "<Figure size 432x288 with 1 Axes>"
      ]
     },
     "metadata": {
      "needs_background": "light"
     },
     "output_type": "display_data"
    },
    {
     "data": {
      "image/png": "[encoded data removed]",
      "text/plain": [
       "<Figure size 432x288 with 1 Axes>"
      ]
     },
     "metadata": {
      "needs_background": "light"
     },
     "output_type": "display_data"
    }
   ],
   "source": [
    "for i in numeric.columns:\n",
    "    sns.boxplot(x = i, data = numeric)\n",
    "    plt.show()"
   ]
  },
  {
   "cell_type": "markdown",
   "metadata": {},
   "source": [
    "###  Check, if log-transform we have seen up to this point changes the result."
   ]
  },
  {
   "cell_type": "code",
   "execution_count": 12,
   "metadata": {},
   "outputs": [
    {
     "data": {
      "image/png": "[encoded data removed]",
      "text/plain": [
       "<Figure size 360x360 with 1 Axes>"
      ]
     },
     "metadata": {
      "needs_background": "light"
     },
     "output_type": "display_data"
    },
    {
     "data": {
      "image/png": "[encoded data removed]",
      "text/plain": [
       "<Figure size 360x360 with 1 Axes>"
      ]
     },
     "metadata": {
      "needs_background": "light"
     },
     "output_type": "display_data"
    },
    {
     "data": {
      "image/png": "[encoded data removed]",
      "text/plain": [
       "<Figure size 360x360 with 1 Axes>"
      ]
     },
     "metadata": {
      "needs_background": "light"
     },
     "output_type": "display_data"
    },
    {
     "data": {
      "image/png": "[encoded data removed]",
      "text/plain": [
       "<Figure size 360x360 with 1 Axes>"
      ]
     },
     "metadata": {
      "needs_background": "light"
     },
     "output_type": "display_data"
    }
   ],
   "source": [
    "def log_transfom_clean(x):\n",
    "    if np.isfinite(x) and x!=0:\n",
    "        return np.log(x)\n",
    "    else:\n",
    "        return np.NAN\n",
    "\n",
    "for c in numeric:\n",
    "    numeric[c] = numeric[c].apply(log_transfom_clean)\n",
    "    \n",
    "for i in numeric.columns:\n",
    "    sns.displot(x = i, data = numeric, bins=40)\n",
    "    plt.show()"
   ]
  },
  {
   "cell_type": "markdown",
   "metadata": {},
   "source": [
    "### Plot all the categorical variables with the proper plot"
   ]
  },
  {
   "cell_type": "code",
   "execution_count": 13,
   "metadata": {},
   "outputs": [
    {
     "data": {
      "image/png": "[encoded data removed]",
      "text/plain": [
       "<Figure size 600x360 with 1 Axes>"
      ]
     },
     "metadata": {
      "needs_background": "light"
     },
     "output_type": "display_data"
    },
    {
     "data": {
      "image/png": "[encoded data removed]",
      "text/plain": [
       "<Figure size 600x360 with 1 Axes>"
      ]
     },
     "metadata": {
      "needs_background": "light"
     },
     "output_type": "display_data"
    },
    {
     "data": {
      "image/png": "[encoded data removed]",
      "text/plain": [
       "<Figure size 600x360 with 1 Axes>"
      ]
     },
     "metadata": {
      "needs_background": "light"
     },
     "output_type": "display_data"
    },
    {
     "data": {
      "image/png": "[encoded data removed]",
      "text/plain": [
       "<Figure size 600x360 with 1 Axes>"
      ]
     },
     "metadata": {
      "needs_background": "light"
     },
     "output_type": "display_data"
    },
    {
     "data": {
      "image/png": "[encoded data removed]",
      "text/plain": [
       "<Figure size 600x360 with 1 Axes>"
      ]
     },
     "metadata": {
      "needs_background": "light"
     },
     "output_type": "display_data"
    }
   ],
   "source": [
    "for i in categorical.columns:\n",
    "    plt.figure(figsize=(10,6), dpi=60)\n",
    "    sns.countplot(x=categorical[i], data=categorical)\n",
    "    plt.show()"
   ]
  },
  {
   "cell_type": "markdown",
   "metadata": {},
   "source": [
    "### Let's check more detail `person_characteristics` column."
   ]
  },
  {
   "cell_type": "code",
   "execution_count": 14,
   "metadata": {},
   "outputs": [],
   "source": [
    "type_a = ['21600', '41500', '53500', '53700', '53800', '53900', '53925']\n",
    "df_age = data[data['person_characteristics'].isin(type_a) ]"
   ]
  },
  {
   "cell_type": "code",
   "execution_count": 15,
   "metadata": {},
   "outputs": [
    {
     "data": {
      "text/plain": [
       "2019    2055\n",
       "2018    2005\n",
       "2017    1996\n",
       "2016    1973\n",
       "2015    1954\n",
       "2014    1922\n",
       "2013    1904\n",
       "2012    1903\n",
       "2011    1884\n",
       "2020     694\n",
       "Name: period, dtype: int64"
      ]
     },
     "execution_count": 15,
     "metadata": {},
     "output_type": "execute_result"
    }
   ],
   "source": [
    "df_age['period'].value_counts()"
   ]
  },
  {
   "cell_type": "code",
   "execution_count": 16,
   "metadata": {},
   "outputs": [
    {
     "data": {
      "text/html": [
       "<div>\n",
       "<style scoped>\n",
       "    .dataframe tbody tr th:only-of-type {\n",
       "        vertical-align: middle;\n",
       "    }\n",
       "\n",
       "    .dataframe tbody tr th {\n",
       "        vertical-align: top;\n",
       "    }\n",
       "\n",
       "    .dataframe thead th {\n",
       "        text-align: right;\n",
       "    }\n",
       "</style>\n",
       "<table border=\"1\" class=\"dataframe\">\n",
       "  <thead>\n",
       "    <tr style=\"text-align: right;\">\n",
       "      <th></th>\n",
       "      <th>id</th>\n",
       "      <th>self_employment_type</th>\n",
       "      <th>branch</th>\n",
       "      <th>age</th>\n",
       "      <th>gender</th>\n",
       "      <th>period</th>\n",
       "      <th>self_empl_persons</th>\n",
       "      <th>avg_personal_income</th>\n",
       "      <th>avg_self_empl_income</th>\n",
       "    </tr>\n",
       "  </thead>\n",
       "  <tbody>\n",
       "    <tr>\n",
       "      <th>0</th>\n",
       "      <td>14424</td>\n",
       "      <td>1st_category_group</td>\n",
       "      <td>Agriculture, forestry and fishing</td>\n",
       "      <td>21600</td>\n",
       "      <td>Male</td>\n",
       "      <td>2011</td>\n",
       "      <td>1.1</td>\n",
       "      <td>31.6</td>\n",
       "      <td>18.1</td>\n",
       "    </tr>\n",
       "    <tr>\n",
       "      <th>1</th>\n",
       "      <td>14425</td>\n",
       "      <td>1st_category_group</td>\n",
       "      <td>Agriculture, forestry and fishing</td>\n",
       "      <td>21600</td>\n",
       "      <td>Male</td>\n",
       "      <td>2012</td>\n",
       "      <td>1.1</td>\n",
       "      <td>33.0</td>\n",
       "      <td>18.8</td>\n",
       "    </tr>\n",
       "    <tr>\n",
       "      <th>2</th>\n",
       "      <td>14426</td>\n",
       "      <td>1st_category_group</td>\n",
       "      <td>Agriculture, forestry and fishing</td>\n",
       "      <td>21600</td>\n",
       "      <td>Male</td>\n",
       "      <td>2013</td>\n",
       "      <td>1.2</td>\n",
       "      <td>34.8</td>\n",
       "      <td>18.9</td>\n",
       "    </tr>\n",
       "    <tr>\n",
       "      <th>3</th>\n",
       "      <td>14427</td>\n",
       "      <td>1st_category_group</td>\n",
       "      <td>Agriculture, forestry and fishing</td>\n",
       "      <td>21600</td>\n",
       "      <td>Male</td>\n",
       "      <td>2014</td>\n",
       "      <td>1.2</td>\n",
       "      <td>29.9</td>\n",
       "      <td>18.0</td>\n",
       "    </tr>\n",
       "    <tr>\n",
       "      <th>4</th>\n",
       "      <td>14428</td>\n",
       "      <td>1st_category_group</td>\n",
       "      <td>Agriculture, forestry and fishing</td>\n",
       "      <td>21600</td>\n",
       "      <td>Male</td>\n",
       "      <td>2015</td>\n",
       "      <td>1.2</td>\n",
       "      <td>28.2</td>\n",
       "      <td>17.2</td>\n",
       "    </tr>\n",
       "    <tr>\n",
       "      <th>...</th>\n",
       "      <td>...</td>\n",
       "      <td>...</td>\n",
       "      <td>...</td>\n",
       "      <td>...</td>\n",
       "      <td>...</td>\n",
       "      <td>...</td>\n",
       "      <td>...</td>\n",
       "      <td>...</td>\n",
       "      <td>...</td>\n",
       "    </tr>\n",
       "    <tr>\n",
       "      <th>94959</th>\n",
       "      <td>641922</td>\n",
       "      <td>5th_category_group</td>\n",
       "      <td>Unknown</td>\n",
       "      <td>53925</td>\n",
       "      <td>Female</td>\n",
       "      <td>2015</td>\n",
       "      <td>0.4</td>\n",
       "      <td>37.5</td>\n",
       "      <td>29.8</td>\n",
       "    </tr>\n",
       "    <tr>\n",
       "      <th>94960</th>\n",
       "      <td>641923</td>\n",
       "      <td>5th_category_group</td>\n",
       "      <td>Unknown</td>\n",
       "      <td>53925</td>\n",
       "      <td>Female</td>\n",
       "      <td>2016</td>\n",
       "      <td>0.4</td>\n",
       "      <td>36.7</td>\n",
       "      <td>30.0</td>\n",
       "    </tr>\n",
       "    <tr>\n",
       "      <th>94961</th>\n",
       "      <td>641924</td>\n",
       "      <td>5th_category_group</td>\n",
       "      <td>Unknown</td>\n",
       "      <td>53925</td>\n",
       "      <td>Female</td>\n",
       "      <td>2017</td>\n",
       "      <td>0.4</td>\n",
       "      <td>36.3</td>\n",
       "      <td>30.2</td>\n",
       "    </tr>\n",
       "    <tr>\n",
       "      <th>94962</th>\n",
       "      <td>641925</td>\n",
       "      <td>5th_category_group</td>\n",
       "      <td>Unknown</td>\n",
       "      <td>53925</td>\n",
       "      <td>Female</td>\n",
       "      <td>2018</td>\n",
       "      <td>0.5</td>\n",
       "      <td>30.8</td>\n",
       "      <td>27.8</td>\n",
       "    </tr>\n",
       "    <tr>\n",
       "      <th>94963</th>\n",
       "      <td>641926</td>\n",
       "      <td>5th_category_group</td>\n",
       "      <td>Unknown</td>\n",
       "      <td>53925</td>\n",
       "      <td>Female</td>\n",
       "      <td>2019</td>\n",
       "      <td>0.5</td>\n",
       "      <td>25.4</td>\n",
       "      <td>23.4</td>\n",
       "    </tr>\n",
       "  </tbody>\n",
       "</table>\n",
       "<p>18290 rows × 9 columns</p>\n",
       "</div>"
      ],
      "text/plain": [
       "           id self_employment_type                             branch    age  \\\n",
       "0       14424   1st_category_group  Agriculture, forestry and fishing  21600   \n",
       "1       14425   1st_category_group  Agriculture, forestry and fishing  21600   \n",
       "2       14426   1st_category_group  Agriculture, forestry and fishing  21600   \n",
       "3       14427   1st_category_group  Agriculture, forestry and fishing  21600   \n",
       "4       14428   1st_category_group  Agriculture, forestry and fishing  21600   \n",
       "...       ...                  ...                                ...    ...   \n",
       "94959  641922   5th_category_group                            Unknown  53925   \n",
       "94960  641923   5th_category_group                            Unknown  53925   \n",
       "94961  641924   5th_category_group                            Unknown  53925   \n",
       "94962  641925   5th_category_group                            Unknown  53925   \n",
       "94963  641926   5th_category_group                            Unknown  53925   \n",
       "\n",
       "       gender period  self_empl_persons  avg_personal_income  \\\n",
       "0        Male   2011                1.1                 31.6   \n",
       "1        Male   2012                1.1                 33.0   \n",
       "2        Male   2013                1.2                 34.8   \n",
       "3        Male   2014                1.2                 29.9   \n",
       "4        Male   2015                1.2                 28.2   \n",
       "...       ...    ...                ...                  ...   \n",
       "94959  Female   2015                0.4                 37.5   \n",
       "94960  Female   2016                0.4                 36.7   \n",
       "94961  Female   2017                0.4                 36.3   \n",
       "94962  Female   2018                0.5                 30.8   \n",
       "94963  Female   2019                0.5                 25.4   \n",
       "\n",
       "       avg_self_empl_income  \n",
       "0                      18.1  \n",
       "1                      18.8  \n",
       "2                      18.9  \n",
       "3                      18.0  \n",
       "4                      17.2  \n",
       "...                     ...  \n",
       "94959                  29.8  \n",
       "94960                  30.0  \n",
       "94961                  30.2  \n",
       "94962                  27.8  \n",
       "94963                  23.4  \n",
       "\n",
       "[18290 rows x 9 columns]"
      ]
     },
     "execution_count": 16,
     "metadata": {},
     "output_type": "execute_result"
    }
   ],
   "source": [
    "df_age = df_age.rename(columns = {'person_characteristics':'age'}) \n",
    "df_age"
   ]
  },
  {
   "cell_type": "code",
   "execution_count": 17,
   "metadata": {},
   "outputs": [
    {
     "data": {
      "text/plain": [
       "53800    3591\n",
       "53900    3419\n",
       "53700    3407\n",
       "53500    3001\n",
       "53925    2373\n",
       "41500    1732\n",
       "21600     767\n",
       "Name: age, dtype: int64"
      ]
     },
     "execution_count": 17,
     "metadata": {},
     "output_type": "execute_result"
    }
   ],
   "source": [
    "df_age['age'].value_counts()"
   ]
  },
  {
   "cell_type": "code",
   "execution_count": 18,
   "metadata": {},
   "outputs": [],
   "source": [
    "def age_group(g):\n",
    "    if g == '21600':\n",
    "        g = '75 years or older'\n",
    "    elif g == '41500':\n",
    "        g = 'Younger than 25 years'\n",
    "    elif g == '53500':\n",
    "        g = '25 to 34 years'\n",
    "    elif g == '53700':\n",
    "        g = '35 to 44 years'\n",
    "    elif g == '53800':\n",
    "        g = '45 to 54 years'\n",
    "    elif g == '53900':\n",
    "        g = '55 to 64 years'\n",
    "    elif g == '53925':\n",
    "        g = '65 to 74 years'\n",
    "        \n",
    "    return g    \n",
    "\n",
    "df_age['age'] = list(map(age_group, df_age['age']))"
   ]
  },
  {
   "cell_type": "code",
   "execution_count": 19,
   "metadata": {},
   "outputs": [
    {
     "data": {
      "text/plain": [
       "45 to 54 years           3591\n",
       "55 to 64 years           3419\n",
       "35 to 44 years           3407\n",
       "25 to 34 years           3001\n",
       "65 to 74 years           2373\n",
       "Younger than 25 years    1732\n",
       "75 years or older         767\n",
       "Name: age, dtype: int64"
      ]
     },
     "execution_count": 19,
     "metadata": {},
     "output_type": "execute_result"
    }
   ],
   "source": [
    "df_age['age'].value_counts()"
   ]
  },
  {
   "cell_type": "code",
   "execution_count": 20,
   "metadata": {},
   "outputs": [
    {
     "data": {
      "image/png": "[encoded data removed]",
      "text/plain": [
       "<Figure size 720x720 with 1 Axes>"
      ]
     },
     "metadata": {},
     "output_type": "display_data"
    }
   ],
   "source": [
    "df_age['age'].value_counts().plot.pie(autopct='%1.1f%%', figsize=(10,10));\n",
    "plt.title('Different groups by age in percentage', size=16)\n",
    "plt.ylabel('')\n",
    "plt.show()"
   ]
  },
  {
   "cell_type": "code",
   "execution_count": 21,
   "metadata": {},
   "outputs": [],
   "source": [
    "df_age.to_csv('data/age_self_empl.csv', index = False)"
   ]
  },
  {
   "cell_type": "code",
   "execution_count": 22,
   "metadata": {},
   "outputs": [],
   "source": [
    "type_b = ['1012600', '2012655', '2012657']\n",
    "df_background = data[data['person_characteristics'].isin(type_b)]"
   ]
  },
  {
   "cell_type": "code",
   "execution_count": 23,
   "metadata": {},
   "outputs": [
    {
     "data": {
      "text/html": [
       "<div>\n",
       "<style scoped>\n",
       "    .dataframe tbody tr th:only-of-type {\n",
       "        vertical-align: middle;\n",
       "    }\n",
       "\n",
       "    .dataframe tbody tr th {\n",
       "        vertical-align: top;\n",
       "    }\n",
       "\n",
       "    .dataframe thead th {\n",
       "        text-align: right;\n",
       "    }\n",
       "</style>\n",
       "<table border=\"1\" class=\"dataframe\">\n",
       "  <thead>\n",
       "    <tr style=\"text-align: right;\">\n",
       "      <th></th>\n",
       "      <th>id</th>\n",
       "      <th>self_employment_type</th>\n",
       "      <th>branch</th>\n",
       "      <th>background</th>\n",
       "      <th>gender</th>\n",
       "      <th>period</th>\n",
       "      <th>self_empl_persons</th>\n",
       "      <th>avg_personal_income</th>\n",
       "      <th>avg_self_empl_income</th>\n",
       "    </tr>\n",
       "  </thead>\n",
       "  <tbody>\n",
       "    <tr>\n",
       "      <th>136</th>\n",
       "      <td>14718</td>\n",
       "      <td>1st_category_group</td>\n",
       "      <td>Agriculture, forestry and fishing</td>\n",
       "      <td>1012600</td>\n",
       "      <td>Male</td>\n",
       "      <td>2011</td>\n",
       "      <td>57.1</td>\n",
       "      <td>37.5</td>\n",
       "      <td>32.7</td>\n",
       "    </tr>\n",
       "    <tr>\n",
       "      <th>137</th>\n",
       "      <td>14719</td>\n",
       "      <td>1st_category_group</td>\n",
       "      <td>Agriculture, forestry and fishing</td>\n",
       "      <td>1012600</td>\n",
       "      <td>Male</td>\n",
       "      <td>2012</td>\n",
       "      <td>56.2</td>\n",
       "      <td>37.4</td>\n",
       "      <td>32.2</td>\n",
       "    </tr>\n",
       "    <tr>\n",
       "      <th>138</th>\n",
       "      <td>14720</td>\n",
       "      <td>1st_category_group</td>\n",
       "      <td>Agriculture, forestry and fishing</td>\n",
       "      <td>1012600</td>\n",
       "      <td>Male</td>\n",
       "      <td>2013</td>\n",
       "      <td>55.9</td>\n",
       "      <td>39.7</td>\n",
       "      <td>34.6</td>\n",
       "    </tr>\n",
       "    <tr>\n",
       "      <th>139</th>\n",
       "      <td>14721</td>\n",
       "      <td>1st_category_group</td>\n",
       "      <td>Agriculture, forestry and fishing</td>\n",
       "      <td>1012600</td>\n",
       "      <td>Male</td>\n",
       "      <td>2014</td>\n",
       "      <td>55.4</td>\n",
       "      <td>39.5</td>\n",
       "      <td>34.4</td>\n",
       "    </tr>\n",
       "    <tr>\n",
       "      <th>140</th>\n",
       "      <td>14722</td>\n",
       "      <td>1st_category_group</td>\n",
       "      <td>Agriculture, forestry and fishing</td>\n",
       "      <td>1012600</td>\n",
       "      <td>Male</td>\n",
       "      <td>2015</td>\n",
       "      <td>55.1</td>\n",
       "      <td>38.3</td>\n",
       "      <td>32.0</td>\n",
       "    </tr>\n",
       "    <tr>\n",
       "      <th>...</th>\n",
       "      <td>...</td>\n",
       "      <td>...</td>\n",
       "      <td>...</td>\n",
       "      <td>...</td>\n",
       "      <td>...</td>\n",
       "      <td>...</td>\n",
       "      <td>...</td>\n",
       "      <td>...</td>\n",
       "      <td>...</td>\n",
       "    </tr>\n",
       "    <tr>\n",
       "      <th>95015</th>\n",
       "      <td>642048</td>\n",
       "      <td>5th_category_group</td>\n",
       "      <td>Unknown</td>\n",
       "      <td>2012657</td>\n",
       "      <td>Female</td>\n",
       "      <td>2015</td>\n",
       "      <td>2.8</td>\n",
       "      <td>17.0</td>\n",
       "      <td>11.1</td>\n",
       "    </tr>\n",
       "    <tr>\n",
       "      <th>95016</th>\n",
       "      <td>642049</td>\n",
       "      <td>5th_category_group</td>\n",
       "      <td>Unknown</td>\n",
       "      <td>2012657</td>\n",
       "      <td>Female</td>\n",
       "      <td>2016</td>\n",
       "      <td>2.3</td>\n",
       "      <td>16.3</td>\n",
       "      <td>13.0</td>\n",
       "    </tr>\n",
       "    <tr>\n",
       "      <th>95017</th>\n",
       "      <td>642050</td>\n",
       "      <td>5th_category_group</td>\n",
       "      <td>Unknown</td>\n",
       "      <td>2012657</td>\n",
       "      <td>Female</td>\n",
       "      <td>2017</td>\n",
       "      <td>2.4</td>\n",
       "      <td>18.7</td>\n",
       "      <td>13.8</td>\n",
       "    </tr>\n",
       "    <tr>\n",
       "      <th>95018</th>\n",
       "      <td>642051</td>\n",
       "      <td>5th_category_group</td>\n",
       "      <td>Unknown</td>\n",
       "      <td>2012657</td>\n",
       "      <td>Female</td>\n",
       "      <td>2018</td>\n",
       "      <td>2.3</td>\n",
       "      <td>17.3</td>\n",
       "      <td>12.0</td>\n",
       "    </tr>\n",
       "    <tr>\n",
       "      <th>95019</th>\n",
       "      <td>642052</td>\n",
       "      <td>5th_category_group</td>\n",
       "      <td>Unknown</td>\n",
       "      <td>2012657</td>\n",
       "      <td>Female</td>\n",
       "      <td>2019</td>\n",
       "      <td>1.3</td>\n",
       "      <td>14.9</td>\n",
       "      <td>11.0</td>\n",
       "    </tr>\n",
       "  </tbody>\n",
       "</table>\n",
       "<p>9533 rows × 9 columns</p>\n",
       "</div>"
      ],
      "text/plain": [
       "           id self_employment_type                             branch  \\\n",
       "136     14718   1st_category_group  Agriculture, forestry and fishing   \n",
       "137     14719   1st_category_group  Agriculture, forestry and fishing   \n",
       "138     14720   1st_category_group  Agriculture, forestry and fishing   \n",
       "139     14721   1st_category_group  Agriculture, forestry and fishing   \n",
       "140     14722   1st_category_group  Agriculture, forestry and fishing   \n",
       "...       ...                  ...                                ...   \n",
       "95015  642048   5th_category_group                            Unknown   \n",
       "95016  642049   5th_category_group                            Unknown   \n",
       "95017  642050   5th_category_group                            Unknown   \n",
       "95018  642051   5th_category_group                            Unknown   \n",
       "95019  642052   5th_category_group                            Unknown   \n",
       "\n",
       "      background  gender period  self_empl_persons  avg_personal_income  \\\n",
       "136      1012600    Male   2011               57.1                 37.5   \n",
       "137      1012600    Male   2012               56.2                 37.4   \n",
       "138      1012600    Male   2013               55.9                 39.7   \n",
       "139      1012600    Male   2014               55.4                 39.5   \n",
       "140      1012600    Male   2015               55.1                 38.3   \n",
       "...          ...     ...    ...                ...                  ...   \n",
       "95015    2012657  Female   2015                2.8                 17.0   \n",
       "95016    2012657  Female   2016                2.3                 16.3   \n",
       "95017    2012657  Female   2017                2.4                 18.7   \n",
       "95018    2012657  Female   2018                2.3                 17.3   \n",
       "95019    2012657  Female   2019                1.3                 14.9   \n",
       "\n",
       "       avg_self_empl_income  \n",
       "136                    32.7  \n",
       "137                    32.2  \n",
       "138                    34.6  \n",
       "139                    34.4  \n",
       "140                    32.0  \n",
       "...                     ...  \n",
       "95015                  11.1  \n",
       "95016                  13.0  \n",
       "95017                  13.8  \n",
       "95018                  12.0  \n",
       "95019                  11.0  \n",
       "\n",
       "[9533 rows x 9 columns]"
      ]
     },
     "execution_count": 23,
     "metadata": {},
     "output_type": "execute_result"
    }
   ],
   "source": [
    "df_background = df_background.rename(columns = {'person_characteristics':'background'}) \n",
    "df_background"
   ]
  },
  {
   "cell_type": "code",
   "execution_count": 24,
   "metadata": {},
   "outputs": [],
   "source": [
    "def background_group(g):\n",
    "    if g == '1012600':\n",
    "        g = 'Netherlands'\n",
    "    elif g == '2012655':\n",
    "        g = 'Western'\n",
    "    elif g == '2012657':\n",
    "        g = 'Non-western'\n",
    "        \n",
    "    return g    \n",
    "\n",
    "df_background['background'] = list(map(background_group, df_background['background']))"
   ]
  },
  {
   "cell_type": "code",
   "execution_count": 25,
   "metadata": {},
   "outputs": [
    {
     "data": {
      "image/png": "[encoded data removed]",
      "text/plain": [
       "<Figure size 1008x432 with 1 Axes>"
      ]
     },
     "metadata": {
      "needs_background": "light"
     },
     "output_type": "display_data"
    }
   ],
   "source": [
    "from matplotlib import rcParams\n",
    "\n",
    "rcParams['figure.figsize'] = 14,6\n",
    "\n",
    "df_background['background'].value_counts().plot(kind = 'bar',  alpha = .9, rot = 0);\n",
    "plt.title('Different groups by background', size=16)\n",
    "plt.xticks(size = 14);"
   ]
  },
  {
   "cell_type": "code",
   "execution_count": 26,
   "metadata": {},
   "outputs": [
    {
     "data": {
      "image/png": "[encoded data removed]",
      "text/plain": [
       "<Figure size 720x720 with 1 Axes>"
      ]
     },
     "metadata": {},
     "output_type": "display_data"
    }
   ],
   "source": [
    "df_background['background'].value_counts().plot.pie(autopct='%1.1f%%', figsize=(10,10));\n",
    "plt.title('Different groups by background in percentage', size=16)\n",
    "plt.ylabel('')\n",
    "plt.show()"
   ]
  },
  {
   "cell_type": "code",
   "execution_count": 27,
   "metadata": {},
   "outputs": [],
   "source": [
    "df_background.to_csv('data/background_self_empl.csv', index = False)"
   ]
  },
  {
   "cell_type": "code",
   "execution_count": 28,
   "metadata": {},
   "outputs": [],
   "source": [
    "type_p = ['1016411', '1016400', '1016410', '1016420', '1016445', '1016460', '1016520']\n",
    "df_position_in_household = data[data['person_characteristics'].isin(type_p) ]"
   ]
  },
  {
   "cell_type": "code",
   "execution_count": 29,
   "metadata": {},
   "outputs": [
    {
     "data": {
      "text/html": [
       "<div>\n",
       "<style scoped>\n",
       "    .dataframe tbody tr th:only-of-type {\n",
       "        vertical-align: middle;\n",
       "    }\n",
       "\n",
       "    .dataframe tbody tr th {\n",
       "        vertical-align: top;\n",
       "    }\n",
       "\n",
       "    .dataframe thead th {\n",
       "        text-align: right;\n",
       "    }\n",
       "</style>\n",
       "<table border=\"1\" class=\"dataframe\">\n",
       "  <thead>\n",
       "    <tr style=\"text-align: right;\">\n",
       "      <th></th>\n",
       "      <th>id</th>\n",
       "      <th>self_employment_type</th>\n",
       "      <th>branch</th>\n",
       "      <th>position_in_household</th>\n",
       "      <th>gender</th>\n",
       "      <th>period</th>\n",
       "      <th>self_empl_persons</th>\n",
       "      <th>avg_personal_income</th>\n",
       "      <th>avg_self_empl_income</th>\n",
       "    </tr>\n",
       "  </thead>\n",
       "  <tbody>\n",
       "    <tr>\n",
       "      <th>192</th>\n",
       "      <td>14844</td>\n",
       "      <td>1st_category_group</td>\n",
       "      <td>Agriculture, forestry and fishing</td>\n",
       "      <td>1016411</td>\n",
       "      <td>Male</td>\n",
       "      <td>2011</td>\n",
       "      <td>41.2</td>\n",
       "      <td>45.2</td>\n",
       "      <td>37.7</td>\n",
       "    </tr>\n",
       "    <tr>\n",
       "      <th>193</th>\n",
       "      <td>14845</td>\n",
       "      <td>1st_category_group</td>\n",
       "      <td>Agriculture, forestry and fishing</td>\n",
       "      <td>1016411</td>\n",
       "      <td>Male</td>\n",
       "      <td>2012</td>\n",
       "      <td>40.5</td>\n",
       "      <td>44.5</td>\n",
       "      <td>37.5</td>\n",
       "    </tr>\n",
       "    <tr>\n",
       "      <th>194</th>\n",
       "      <td>14846</td>\n",
       "      <td>1st_category_group</td>\n",
       "      <td>Agriculture, forestry and fishing</td>\n",
       "      <td>1016411</td>\n",
       "      <td>Male</td>\n",
       "      <td>2013</td>\n",
       "      <td>40.7</td>\n",
       "      <td>46.8</td>\n",
       "      <td>39.4</td>\n",
       "    </tr>\n",
       "    <tr>\n",
       "      <th>195</th>\n",
       "      <td>14847</td>\n",
       "      <td>1st_category_group</td>\n",
       "      <td>Agriculture, forestry and fishing</td>\n",
       "      <td>1016411</td>\n",
       "      <td>Male</td>\n",
       "      <td>2014</td>\n",
       "      <td>40.0</td>\n",
       "      <td>46.7</td>\n",
       "      <td>39.5</td>\n",
       "    </tr>\n",
       "    <tr>\n",
       "      <th>196</th>\n",
       "      <td>14848</td>\n",
       "      <td>1st_category_group</td>\n",
       "      <td>Agriculture, forestry and fishing</td>\n",
       "      <td>1016411</td>\n",
       "      <td>Male</td>\n",
       "      <td>2015</td>\n",
       "      <td>39.1</td>\n",
       "      <td>46.4</td>\n",
       "      <td>38.0</td>\n",
       "    </tr>\n",
       "    <tr>\n",
       "      <th>...</th>\n",
       "      <td>...</td>\n",
       "      <td>...</td>\n",
       "      <td>...</td>\n",
       "      <td>...</td>\n",
       "      <td>...</td>\n",
       "      <td>...</td>\n",
       "      <td>...</td>\n",
       "      <td>...</td>\n",
       "      <td>...</td>\n",
       "    </tr>\n",
       "    <tr>\n",
       "      <th>95125</th>\n",
       "      <td>642342</td>\n",
       "      <td>5th_category_group</td>\n",
       "      <td>Unknown</td>\n",
       "      <td>1016520</td>\n",
       "      <td>Female</td>\n",
       "      <td>2015</td>\n",
       "      <td>0.4</td>\n",
       "      <td>10.9</td>\n",
       "      <td>6.7</td>\n",
       "    </tr>\n",
       "    <tr>\n",
       "      <th>95126</th>\n",
       "      <td>642343</td>\n",
       "      <td>5th_category_group</td>\n",
       "      <td>Unknown</td>\n",
       "      <td>1016520</td>\n",
       "      <td>Female</td>\n",
       "      <td>2016</td>\n",
       "      <td>0.3</td>\n",
       "      <td>13.7</td>\n",
       "      <td>9.8</td>\n",
       "    </tr>\n",
       "    <tr>\n",
       "      <th>95127</th>\n",
       "      <td>642344</td>\n",
       "      <td>5th_category_group</td>\n",
       "      <td>Unknown</td>\n",
       "      <td>1016520</td>\n",
       "      <td>Female</td>\n",
       "      <td>2017</td>\n",
       "      <td>0.3</td>\n",
       "      <td>12.8</td>\n",
       "      <td>8.6</td>\n",
       "    </tr>\n",
       "    <tr>\n",
       "      <th>95128</th>\n",
       "      <td>642345</td>\n",
       "      <td>5th_category_group</td>\n",
       "      <td>Unknown</td>\n",
       "      <td>1016520</td>\n",
       "      <td>Female</td>\n",
       "      <td>2018</td>\n",
       "      <td>0.4</td>\n",
       "      <td>11.7</td>\n",
       "      <td>8.0</td>\n",
       "    </tr>\n",
       "    <tr>\n",
       "      <th>95129</th>\n",
       "      <td>642346</td>\n",
       "      <td>5th_category_group</td>\n",
       "      <td>Unknown</td>\n",
       "      <td>1016520</td>\n",
       "      <td>Female</td>\n",
       "      <td>2019</td>\n",
       "      <td>0.2</td>\n",
       "      <td>12.6</td>\n",
       "      <td>10.0</td>\n",
       "    </tr>\n",
       "  </tbody>\n",
       "</table>\n",
       "<p>17041 rows × 9 columns</p>\n",
       "</div>"
      ],
      "text/plain": [
       "           id self_employment_type                             branch  \\\n",
       "192     14844   1st_category_group  Agriculture, forestry and fishing   \n",
       "193     14845   1st_category_group  Agriculture, forestry and fishing   \n",
       "194     14846   1st_category_group  Agriculture, forestry and fishing   \n",
       "195     14847   1st_category_group  Agriculture, forestry and fishing   \n",
       "196     14848   1st_category_group  Agriculture, forestry and fishing   \n",
       "...       ...                  ...                                ...   \n",
       "95125  642342   5th_category_group                            Unknown   \n",
       "95126  642343   5th_category_group                            Unknown   \n",
       "95127  642344   5th_category_group                            Unknown   \n",
       "95128  642345   5th_category_group                            Unknown   \n",
       "95129  642346   5th_category_group                            Unknown   \n",
       "\n",
       "      position_in_household  gender period  self_empl_persons  \\\n",
       "192                 1016411    Male   2011               41.2   \n",
       "193                 1016411    Male   2012               40.5   \n",
       "194                 1016411    Male   2013               40.7   \n",
       "195                 1016411    Male   2014               40.0   \n",
       "196                 1016411    Male   2015               39.1   \n",
       "...                     ...     ...    ...                ...   \n",
       "95125               1016520  Female   2015                0.4   \n",
       "95126               1016520  Female   2016                0.3   \n",
       "95127               1016520  Female   2017                0.3   \n",
       "95128               1016520  Female   2018                0.4   \n",
       "95129               1016520  Female   2019                0.2   \n",
       "\n",
       "       avg_personal_income  avg_self_empl_income  \n",
       "192                   45.2                  37.7  \n",
       "193                   44.5                  37.5  \n",
       "194                   46.8                  39.4  \n",
       "195                   46.7                  39.5  \n",
       "196                   46.4                  38.0  \n",
       "...                    ...                   ...  \n",
       "95125                 10.9                   6.7  \n",
       "95126                 13.7                   9.8  \n",
       "95127                 12.8                   8.6  \n",
       "95128                 11.7                   8.0  \n",
       "95129                 12.6                  10.0  \n",
       "\n",
       "[17041 rows x 9 columns]"
      ]
     },
     "execution_count": 29,
     "metadata": {},
     "output_type": "execute_result"
    }
   ],
   "source": [
    "df_position_in_household = df_position_in_household.rename(columns = {'person_characteristics':'position_in_household'}) \n",
    "df_position_in_household"
   ]
  },
  {
   "cell_type": "code",
   "execution_count": 30,
   "metadata": {},
   "outputs": [
    {
     "data": {
      "text/plain": [
       "1016420    3633\n",
       "1016411    3605\n",
       "1016410    3380\n",
       "1016400    3087\n",
       "1016460    1881\n",
       "1016520    1455\n",
       "Name: position_in_household, dtype: int64"
      ]
     },
     "execution_count": 30,
     "metadata": {},
     "output_type": "execute_result"
    }
   ],
   "source": [
    "df_position_in_household['position_in_household'].value_counts()"
   ]
  },
  {
   "cell_type": "code",
   "execution_count": 31,
   "metadata": {},
   "outputs": [],
   "source": [
    "def household_group(g):\n",
    "    if g == '1016411':\n",
    "        g = 'Main earner'\n",
    "    elif g == '1016400':\n",
    "        g = 'Main earner without partner'\n",
    "    elif g == '1016410':\n",
    "        g = 'Main earner with partner'\n",
    "    elif g == '1016420':\n",
    "         g = 'Partner of main earnerr'\n",
    "    elif g == '1016460':\n",
    "        g = 'Child of age'\n",
    "    elif g == '1016520':\n",
    "        g = 'Other member'\n",
    "            \n",
    "    return g    \n",
    "\n",
    "df_position_in_household['position_in_household'] = list(map(household_group, df_position_in_household['position_in_household']))"
   ]
  },
  {
   "cell_type": "code",
   "execution_count": 32,
   "metadata": {},
   "outputs": [
    {
     "data": {
      "text/plain": [
       "Partner of main earnerr        3633\n",
       "Main earner                    3605\n",
       "Main earner with partner       3380\n",
       "Main earner without partner    3087\n",
       "Child of age                   1881\n",
       "Other member                   1455\n",
       "Name: position_in_household, dtype: int64"
      ]
     },
     "execution_count": 32,
     "metadata": {},
     "output_type": "execute_result"
    }
   ],
   "source": [
    "df_position_in_household['position_in_household'].value_counts()"
   ]
  },
  {
   "cell_type": "code",
   "execution_count": 33,
   "metadata": {},
   "outputs": [
    {
     "data": {
      "image/png": "[encoded data removed]",
      "text/plain": [
       "<Figure size 1008x432 with 1 Axes>"
      ]
     },
     "metadata": {
      "needs_background": "light"
     },
     "output_type": "display_data"
    }
   ],
   "source": [
    "df_position_in_household['position_in_household'].value_counts().plot(kind = 'bar', color = 'g', alpha = .9, rot = 0);\n",
    "\n",
    "plt.title('Different groups by position in household', size=16)\n",
    "plt.xticks(rotation = \"-40\", ha = 'left', size = 12);\n",
    "rcParams['figure.figsize'] = 14,6"
   ]
  },
  {
   "cell_type": "code",
   "execution_count": 34,
   "metadata": {},
   "outputs": [],
   "source": [
    "df_position_in_household.to_csv('data/household_self_empl.csv', index = False)"
   ]
  }
 ],
 "metadata": {
  "kernelspec": {
   "display_name": "Python 3",
   "language": "python",
   "name": "python3"
  },
  "language_info": {
   "codemirror_mode": {
    "name": "ipython",
    "version": 3
   },
   "file_extension": ".py",
   "mimetype": "text/x-python",
   "name": "python",
   "nbconvert_exporter": "python",
   "pygments_lexer": "ipython3",
   "version": "3.8.5"
  }
 },
 "nbformat": 4,
 "nbformat_minor": 4
}
